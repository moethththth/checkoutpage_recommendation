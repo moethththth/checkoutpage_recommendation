{
 "cells": [
  {
   "cell_type": "markdown",
   "source": [
    "# Recommendation for 5 best practicies on check out page\n",
    "- Check for 4 websites(Muji, Zara, Ralph Lauren, DemoShopify)\n",
    "\n",
    "## 1. Check the number of input forms\n",
    "- If it is larger than 8 inputs, it maybe too long"
   ],
   "metadata": {
    "collapsed": false
   }
  },
  {
   "cell_type": "code",
   "execution_count": 2,
   "id": "3b728ebd",
   "metadata": {
    "ExecuteTime": {
     "end_time": "2023-05-10T07:03:19.515285Z",
     "start_time": "2023-05-10T07:03:18.299334Z"
    }
   },
   "outputs": [],
   "source": [
    "import pandas as pd\n",
    "from bs4 import BeautifulSoup"
   ]
  },
  {
   "cell_type": "code",
   "execution_count": 3,
   "id": "3c22b9de",
   "metadata": {
    "ExecuteTime": {
     "end_time": "2023-05-10T07:03:19.519827Z",
     "start_time": "2023-05-10T07:03:19.516544Z"
    }
   },
   "outputs": [],
   "source": [
    "with open('無印良品.html', 'r') as f:\n",
    "    html = f.read()"
   ]
  },
  {
   "cell_type": "code",
   "execution_count": 4,
   "id": "f6f45f9f",
   "metadata": {
    "ExecuteTime": {
     "end_time": "2023-05-10T07:03:19.560734Z",
     "start_time": "2023-05-10T07:03:19.558617Z"
    }
   },
   "outputs": [],
   "source": [
    "soup = BeautifulSoup(html, 'html.parser')"
   ]
  },
  {
   "cell_type": "code",
   "execution_count": 5,
   "id": "2c828f99",
   "metadata": {
    "ExecuteTime": {
     "end_time": "2023-05-10T07:03:19.566024Z",
     "start_time": "2023-05-10T07:03:19.564079Z"
    }
   },
   "outputs": [],
   "source": [
    "input_elements = soup.find_all('input',{'type':['text','email','tel']})"
   ]
  },
  {
   "cell_type": "code",
   "execution_count": 6,
   "id": "50b77e49",
   "metadata": {
    "ExecuteTime": {
     "end_time": "2023-05-10T07:03:19.570347Z",
     "start_time": "2023-05-10T07:03:19.568155Z"
    }
   },
   "outputs": [
    {
     "name": "stdout",
     "output_type": "stream",
     "text": [
      "10\n"
     ]
    }
   ],
   "source": [
    "print(len(input_elements))"
   ]
  },
  {
   "cell_type": "code",
   "execution_count": 7,
   "id": "2856e57e",
   "metadata": {
    "ExecuteTime": {
     "end_time": "2023-05-10T07:03:19.573958Z",
     "start_time": "2023-05-10T07:03:19.571813Z"
    }
   },
   "outputs": [],
   "source": [
    "# Create a list of dictionaries for each input element\n",
    "inputs_list = []\n",
    "for input_element in input_elements:\n",
    "    inputs_list.append(input_element.attrs)"
   ]
  },
  {
   "cell_type": "code",
   "execution_count": 8,
   "id": "4524a28e",
   "metadata": {
    "ExecuteTime": {
     "end_time": "2023-05-10T07:03:19.580511Z",
     "start_time": "2023-05-10T07:03:19.578666Z"
    }
   },
   "outputs": [],
   "source": [
    "df = pd.DataFrame(inputs_list)"
   ]
  },
  {
   "cell_type": "code",
   "execution_count": 9,
   "id": "7a1298fc",
   "metadata": {
    "scrolled": true,
    "ExecuteTime": {
     "end_time": "2023-05-10T07:03:19.606643Z",
     "start_time": "2023-05-10T07:03:19.584896Z"
    }
   },
   "outputs": [
    {
     "data": {
      "text/plain": "                          id          placeholder maxlength sectionbtnfocus  \\\n0          searchInputLayout             キーワードで探す       128               1   \n1         customerInfo.email  abcdef1234@muji.com       NaN             NaN   \n2      customerInfo.fullName                無印　太郎       NaN             NaN   \n3  customerInfo.fullNameKana             ムジルシ　タロウ       NaN             NaN   \n4       customerInfo.zipCode              1708424         8             NaN   \n5      customerInfo.address1               東京都豊島区       NaN             NaN   \n6      customerInfo.address2                  東池袋       NaN             NaN   \n7      customerInfo.address3               ４ー２６ー３       NaN             NaN   \n8      customerInfo.address4                  NaN       NaN             NaN   \n9         customerInfo.telNo           0339894191        13             NaN   \n\n  inputbackgroundcolor                                              class  \\\n0             #f5f5f5;                                        [ant-input]   \n1                  NaN  [ant-input, textField__Input-sc-17ccvkc-1, iSh...   \n2                  NaN                                                NaN   \n3                  NaN                                                NaN   \n4                  NaN                                        [ant-input]   \n5                  NaN  [ant-input, ant-input-disabled, textField__Inp...   \n6                  NaN  [ant-input, textField__Input-sc-17ccvkc-1, iSh...   \n7                  NaN  [ant-input, textField__Input-sc-17ccvkc-1, iSh...   \n8                  NaN  [ant-input, textField__Input-sc-17ccvkc-1, iSh...   \n9                  NaN  [ant-input, digitsField__Input-sc-12tpvpc-1, g...   \n\n   type value width height inputmode      data-__meta     data-__field  \\\n0  text         NaN    NaN       NaN              NaN              NaN   \n1  text        100%   auto     email  [object Object]  [object Object]   \n2  text         NaN    NaN       NaN  [object Object]  [object Object]   \n3  text         NaN    NaN       NaN  [object Object]  [object Object]   \n4   tel         NaN    NaN       NaN  [object Object]  [object Object]   \n5  text        100%   auto       NaN  [object Object]  [object Object]   \n6  text        100%   auto       NaN  [object Object]  [object Object]   \n7  text        100%   auto       NaN  [object Object]  [object Object]   \n8  text        100%   auto       NaN  [object Object]  [object Object]   \n9   tel        100%   auto       NaN  [object Object]  [object Object]   \n\n                        name disabled                    style  \n0                        NaN      NaN                      NaN  \n1                        NaN      NaN                      NaN  \n2      customerInfo.fullName      NaN                      NaN  \n3  customerInfo.fullNameKana      NaN                      NaN  \n4                        NaN      NaN                      NaN  \n5                        NaN           color: rgb(88, 88, 88);  \n6                        NaN      NaN                      NaN  \n7                        NaN      NaN                      NaN  \n8                        NaN      NaN                      NaN  \n9                        NaN      NaN                      NaN  ",
      "text/html": "<div>\n<style scoped>\n    .dataframe tbody tr th:only-of-type {\n        vertical-align: middle;\n    }\n\n    .dataframe tbody tr th {\n        vertical-align: top;\n    }\n\n    .dataframe thead th {\n        text-align: right;\n    }\n</style>\n<table border=\"1\" class=\"dataframe\">\n  <thead>\n    <tr style=\"text-align: right;\">\n      <th></th>\n      <th>id</th>\n      <th>placeholder</th>\n      <th>maxlength</th>\n      <th>sectionbtnfocus</th>\n      <th>inputbackgroundcolor</th>\n      <th>class</th>\n      <th>type</th>\n      <th>value</th>\n      <th>width</th>\n      <th>height</th>\n      <th>inputmode</th>\n      <th>data-__meta</th>\n      <th>data-__field</th>\n      <th>name</th>\n      <th>disabled</th>\n      <th>style</th>\n    </tr>\n  </thead>\n  <tbody>\n    <tr>\n      <th>0</th>\n      <td>searchInputLayout</td>\n      <td>キーワードで探す</td>\n      <td>128</td>\n      <td>1</td>\n      <td>#f5f5f5;</td>\n      <td>[ant-input]</td>\n      <td>text</td>\n      <td></td>\n      <td>NaN</td>\n      <td>NaN</td>\n      <td>NaN</td>\n      <td>NaN</td>\n      <td>NaN</td>\n      <td>NaN</td>\n      <td>NaN</td>\n      <td>NaN</td>\n    </tr>\n    <tr>\n      <th>1</th>\n      <td>customerInfo.email</td>\n      <td>abcdef1234@muji.com</td>\n      <td>NaN</td>\n      <td>NaN</td>\n      <td>NaN</td>\n      <td>[ant-input, textField__Input-sc-17ccvkc-1, iSh...</td>\n      <td>text</td>\n      <td></td>\n      <td>100%</td>\n      <td>auto</td>\n      <td>email</td>\n      <td>[object Object]</td>\n      <td>[object Object]</td>\n      <td>NaN</td>\n      <td>NaN</td>\n      <td>NaN</td>\n    </tr>\n    <tr>\n      <th>2</th>\n      <td>customerInfo.fullName</td>\n      <td>無印　太郎</td>\n      <td>NaN</td>\n      <td>NaN</td>\n      <td>NaN</td>\n      <td>NaN</td>\n      <td>text</td>\n      <td></td>\n      <td>NaN</td>\n      <td>NaN</td>\n      <td>NaN</td>\n      <td>[object Object]</td>\n      <td>[object Object]</td>\n      <td>customerInfo.fullName</td>\n      <td>NaN</td>\n      <td>NaN</td>\n    </tr>\n    <tr>\n      <th>3</th>\n      <td>customerInfo.fullNameKana</td>\n      <td>ムジルシ　タロウ</td>\n      <td>NaN</td>\n      <td>NaN</td>\n      <td>NaN</td>\n      <td>NaN</td>\n      <td>text</td>\n      <td></td>\n      <td>NaN</td>\n      <td>NaN</td>\n      <td>NaN</td>\n      <td>[object Object]</td>\n      <td>[object Object]</td>\n      <td>customerInfo.fullNameKana</td>\n      <td>NaN</td>\n      <td>NaN</td>\n    </tr>\n    <tr>\n      <th>4</th>\n      <td>customerInfo.zipCode</td>\n      <td>1708424</td>\n      <td>8</td>\n      <td>NaN</td>\n      <td>NaN</td>\n      <td>[ant-input]</td>\n      <td>tel</td>\n      <td></td>\n      <td>NaN</td>\n      <td>NaN</td>\n      <td>NaN</td>\n      <td>[object Object]</td>\n      <td>[object Object]</td>\n      <td>NaN</td>\n      <td>NaN</td>\n      <td>NaN</td>\n    </tr>\n    <tr>\n      <th>5</th>\n      <td>customerInfo.address1</td>\n      <td>東京都豊島区</td>\n      <td>NaN</td>\n      <td>NaN</td>\n      <td>NaN</td>\n      <td>[ant-input, ant-input-disabled, textField__Inp...</td>\n      <td>text</td>\n      <td></td>\n      <td>100%</td>\n      <td>auto</td>\n      <td>NaN</td>\n      <td>[object Object]</td>\n      <td>[object Object]</td>\n      <td>NaN</td>\n      <td></td>\n      <td>color: rgb(88, 88, 88);</td>\n    </tr>\n    <tr>\n      <th>6</th>\n      <td>customerInfo.address2</td>\n      <td>東池袋</td>\n      <td>NaN</td>\n      <td>NaN</td>\n      <td>NaN</td>\n      <td>[ant-input, textField__Input-sc-17ccvkc-1, iSh...</td>\n      <td>text</td>\n      <td></td>\n      <td>100%</td>\n      <td>auto</td>\n      <td>NaN</td>\n      <td>[object Object]</td>\n      <td>[object Object]</td>\n      <td>NaN</td>\n      <td>NaN</td>\n      <td>NaN</td>\n    </tr>\n    <tr>\n      <th>7</th>\n      <td>customerInfo.address3</td>\n      <td>４ー２６ー３</td>\n      <td>NaN</td>\n      <td>NaN</td>\n      <td>NaN</td>\n      <td>[ant-input, textField__Input-sc-17ccvkc-1, iSh...</td>\n      <td>text</td>\n      <td></td>\n      <td>100%</td>\n      <td>auto</td>\n      <td>NaN</td>\n      <td>[object Object]</td>\n      <td>[object Object]</td>\n      <td>NaN</td>\n      <td>NaN</td>\n      <td>NaN</td>\n    </tr>\n    <tr>\n      <th>8</th>\n      <td>customerInfo.address4</td>\n      <td>NaN</td>\n      <td>NaN</td>\n      <td>NaN</td>\n      <td>NaN</td>\n      <td>[ant-input, textField__Input-sc-17ccvkc-1, iSh...</td>\n      <td>text</td>\n      <td></td>\n      <td>100%</td>\n      <td>auto</td>\n      <td>NaN</td>\n      <td>[object Object]</td>\n      <td>[object Object]</td>\n      <td>NaN</td>\n      <td>NaN</td>\n      <td>NaN</td>\n    </tr>\n    <tr>\n      <th>9</th>\n      <td>customerInfo.telNo</td>\n      <td>0339894191</td>\n      <td>13</td>\n      <td>NaN</td>\n      <td>NaN</td>\n      <td>[ant-input, digitsField__Input-sc-12tpvpc-1, g...</td>\n      <td>tel</td>\n      <td></td>\n      <td>100%</td>\n      <td>auto</td>\n      <td>NaN</td>\n      <td>[object Object]</td>\n      <td>[object Object]</td>\n      <td>NaN</td>\n      <td>NaN</td>\n      <td>NaN</td>\n    </tr>\n  </tbody>\n</table>\n</div>"
     },
     "execution_count": 9,
     "metadata": {},
     "output_type": "execute_result"
    }
   ],
   "source": [
    "df"
   ]
  },
  {
   "cell_type": "markdown",
   "id": "39813766",
   "metadata": {
    "ExecuteTime": {
     "end_time": "2023-05-10T02:08:33.389467Z",
     "start_time": "2023-05-10T02:08:33.378786Z"
    }
   },
   "source": [
    "## Special case1 : Don't count the search bar input\n",
    "- Skip for the input that has \"search\" in id"
   ],
   "outputs": [],
   "execution_count": 83
  },
  {
   "cell_type": "code",
   "execution_count": 10,
   "id": "22ed3780",
   "metadata": {
    "ExecuteTime": {
     "end_time": "2023-05-10T07:03:19.606822Z",
     "start_time": "2023-05-10T07:03:19.606132Z"
    }
   },
   "outputs": [],
   "source": [
    "for index, row in df.iterrows():\n",
    "    if any(\"search\" in str(col).lower() for col in row):\n",
    "        df.drop(index, inplace=True)"
   ]
  },
  {
   "cell_type": "code",
   "execution_count": 11,
   "id": "5fda89b2",
   "metadata": {
    "scrolled": true,
    "ExecuteTime": {
     "end_time": "2023-05-10T07:03:19.618308Z",
     "start_time": "2023-05-10T07:03:19.615253Z"
    }
   },
   "outputs": [
    {
     "data": {
      "text/plain": "                          id          placeholder maxlength sectionbtnfocus  \\\n1         customerInfo.email  abcdef1234@muji.com       NaN             NaN   \n2      customerInfo.fullName                無印　太郎       NaN             NaN   \n3  customerInfo.fullNameKana             ムジルシ　タロウ       NaN             NaN   \n4       customerInfo.zipCode              1708424         8             NaN   \n5      customerInfo.address1               東京都豊島区       NaN             NaN   \n6      customerInfo.address2                  東池袋       NaN             NaN   \n7      customerInfo.address3               ４ー２６ー３       NaN             NaN   \n8      customerInfo.address4                  NaN       NaN             NaN   \n9         customerInfo.telNo           0339894191        13             NaN   \n\n  inputbackgroundcolor                                              class  \\\n1                  NaN  [ant-input, textField__Input-sc-17ccvkc-1, iSh...   \n2                  NaN                                                NaN   \n3                  NaN                                                NaN   \n4                  NaN                                        [ant-input]   \n5                  NaN  [ant-input, ant-input-disabled, textField__Inp...   \n6                  NaN  [ant-input, textField__Input-sc-17ccvkc-1, iSh...   \n7                  NaN  [ant-input, textField__Input-sc-17ccvkc-1, iSh...   \n8                  NaN  [ant-input, textField__Input-sc-17ccvkc-1, iSh...   \n9                  NaN  [ant-input, digitsField__Input-sc-12tpvpc-1, g...   \n\n   type value width height inputmode      data-__meta     data-__field  \\\n1  text        100%   auto     email  [object Object]  [object Object]   \n2  text         NaN    NaN       NaN  [object Object]  [object Object]   \n3  text         NaN    NaN       NaN  [object Object]  [object Object]   \n4   tel         NaN    NaN       NaN  [object Object]  [object Object]   \n5  text        100%   auto       NaN  [object Object]  [object Object]   \n6  text        100%   auto       NaN  [object Object]  [object Object]   \n7  text        100%   auto       NaN  [object Object]  [object Object]   \n8  text        100%   auto       NaN  [object Object]  [object Object]   \n9   tel        100%   auto       NaN  [object Object]  [object Object]   \n\n                        name disabled                    style  \n1                        NaN      NaN                      NaN  \n2      customerInfo.fullName      NaN                      NaN  \n3  customerInfo.fullNameKana      NaN                      NaN  \n4                        NaN      NaN                      NaN  \n5                        NaN           color: rgb(88, 88, 88);  \n6                        NaN      NaN                      NaN  \n7                        NaN      NaN                      NaN  \n8                        NaN      NaN                      NaN  \n9                        NaN      NaN                      NaN  ",
      "text/html": "<div>\n<style scoped>\n    .dataframe tbody tr th:only-of-type {\n        vertical-align: middle;\n    }\n\n    .dataframe tbody tr th {\n        vertical-align: top;\n    }\n\n    .dataframe thead th {\n        text-align: right;\n    }\n</style>\n<table border=\"1\" class=\"dataframe\">\n  <thead>\n    <tr style=\"text-align: right;\">\n      <th></th>\n      <th>id</th>\n      <th>placeholder</th>\n      <th>maxlength</th>\n      <th>sectionbtnfocus</th>\n      <th>inputbackgroundcolor</th>\n      <th>class</th>\n      <th>type</th>\n      <th>value</th>\n      <th>width</th>\n      <th>height</th>\n      <th>inputmode</th>\n      <th>data-__meta</th>\n      <th>data-__field</th>\n      <th>name</th>\n      <th>disabled</th>\n      <th>style</th>\n    </tr>\n  </thead>\n  <tbody>\n    <tr>\n      <th>1</th>\n      <td>customerInfo.email</td>\n      <td>abcdef1234@muji.com</td>\n      <td>NaN</td>\n      <td>NaN</td>\n      <td>NaN</td>\n      <td>[ant-input, textField__Input-sc-17ccvkc-1, iSh...</td>\n      <td>text</td>\n      <td></td>\n      <td>100%</td>\n      <td>auto</td>\n      <td>email</td>\n      <td>[object Object]</td>\n      <td>[object Object]</td>\n      <td>NaN</td>\n      <td>NaN</td>\n      <td>NaN</td>\n    </tr>\n    <tr>\n      <th>2</th>\n      <td>customerInfo.fullName</td>\n      <td>無印　太郎</td>\n      <td>NaN</td>\n      <td>NaN</td>\n      <td>NaN</td>\n      <td>NaN</td>\n      <td>text</td>\n      <td></td>\n      <td>NaN</td>\n      <td>NaN</td>\n      <td>NaN</td>\n      <td>[object Object]</td>\n      <td>[object Object]</td>\n      <td>customerInfo.fullName</td>\n      <td>NaN</td>\n      <td>NaN</td>\n    </tr>\n    <tr>\n      <th>3</th>\n      <td>customerInfo.fullNameKana</td>\n      <td>ムジルシ　タロウ</td>\n      <td>NaN</td>\n      <td>NaN</td>\n      <td>NaN</td>\n      <td>NaN</td>\n      <td>text</td>\n      <td></td>\n      <td>NaN</td>\n      <td>NaN</td>\n      <td>NaN</td>\n      <td>[object Object]</td>\n      <td>[object Object]</td>\n      <td>customerInfo.fullNameKana</td>\n      <td>NaN</td>\n      <td>NaN</td>\n    </tr>\n    <tr>\n      <th>4</th>\n      <td>customerInfo.zipCode</td>\n      <td>1708424</td>\n      <td>8</td>\n      <td>NaN</td>\n      <td>NaN</td>\n      <td>[ant-input]</td>\n      <td>tel</td>\n      <td></td>\n      <td>NaN</td>\n      <td>NaN</td>\n      <td>NaN</td>\n      <td>[object Object]</td>\n      <td>[object Object]</td>\n      <td>NaN</td>\n      <td>NaN</td>\n      <td>NaN</td>\n    </tr>\n    <tr>\n      <th>5</th>\n      <td>customerInfo.address1</td>\n      <td>東京都豊島区</td>\n      <td>NaN</td>\n      <td>NaN</td>\n      <td>NaN</td>\n      <td>[ant-input, ant-input-disabled, textField__Inp...</td>\n      <td>text</td>\n      <td></td>\n      <td>100%</td>\n      <td>auto</td>\n      <td>NaN</td>\n      <td>[object Object]</td>\n      <td>[object Object]</td>\n      <td>NaN</td>\n      <td></td>\n      <td>color: rgb(88, 88, 88);</td>\n    </tr>\n    <tr>\n      <th>6</th>\n      <td>customerInfo.address2</td>\n      <td>東池袋</td>\n      <td>NaN</td>\n      <td>NaN</td>\n      <td>NaN</td>\n      <td>[ant-input, textField__Input-sc-17ccvkc-1, iSh...</td>\n      <td>text</td>\n      <td></td>\n      <td>100%</td>\n      <td>auto</td>\n      <td>NaN</td>\n      <td>[object Object]</td>\n      <td>[object Object]</td>\n      <td>NaN</td>\n      <td>NaN</td>\n      <td>NaN</td>\n    </tr>\n    <tr>\n      <th>7</th>\n      <td>customerInfo.address3</td>\n      <td>４ー２６ー３</td>\n      <td>NaN</td>\n      <td>NaN</td>\n      <td>NaN</td>\n      <td>[ant-input, textField__Input-sc-17ccvkc-1, iSh...</td>\n      <td>text</td>\n      <td></td>\n      <td>100%</td>\n      <td>auto</td>\n      <td>NaN</td>\n      <td>[object Object]</td>\n      <td>[object Object]</td>\n      <td>NaN</td>\n      <td>NaN</td>\n      <td>NaN</td>\n    </tr>\n    <tr>\n      <th>8</th>\n      <td>customerInfo.address4</td>\n      <td>NaN</td>\n      <td>NaN</td>\n      <td>NaN</td>\n      <td>NaN</td>\n      <td>[ant-input, textField__Input-sc-17ccvkc-1, iSh...</td>\n      <td>text</td>\n      <td></td>\n      <td>100%</td>\n      <td>auto</td>\n      <td>NaN</td>\n      <td>[object Object]</td>\n      <td>[object Object]</td>\n      <td>NaN</td>\n      <td>NaN</td>\n      <td>NaN</td>\n    </tr>\n    <tr>\n      <th>9</th>\n      <td>customerInfo.telNo</td>\n      <td>0339894191</td>\n      <td>13</td>\n      <td>NaN</td>\n      <td>NaN</td>\n      <td>[ant-input, digitsField__Input-sc-12tpvpc-1, g...</td>\n      <td>tel</td>\n      <td></td>\n      <td>100%</td>\n      <td>auto</td>\n      <td>NaN</td>\n      <td>[object Object]</td>\n      <td>[object Object]</td>\n      <td>NaN</td>\n      <td>NaN</td>\n      <td>NaN</td>\n    </tr>\n  </tbody>\n</table>\n</div>"
     },
     "execution_count": 11,
     "metadata": {},
     "output_type": "execute_result"
    }
   ],
   "source": [
    "df"
   ]
  },
  {
   "cell_type": "code",
   "execution_count": 12,
   "id": "422af145",
   "metadata": {
    "ExecuteTime": {
     "end_time": "2023-05-10T07:03:19.624081Z",
     "start_time": "2023-05-10T07:03:19.622187Z"
    }
   },
   "outputs": [],
   "source": [
    "# define it to make it reusable. Only until the count part.\n",
    "\n",
    "def parse_html_inputs(filename):\n",
    "    # Load the HTML file\n",
    "    with open(filename, 'r') as f:\n",
    "        html = f.read()\n",
    "\n",
    "    # Parse the HTML using BeautifulSoup\n",
    "    soup = BeautifulSoup(html, 'html.parser')\n",
    "\n",
    "    # Finding input elements in the URL\n",
    "    # With types 'text' or 'email' or 'tel'\n",
    "    input_elements = soup.find_all('input', {'type': ['text', 'email', 'tel']})\n",
    "\n",
    "    # Create a list of dictionaries for each input element\n",
    "    inputs_list = []\n",
    "    for input_element in input_elements:\n",
    "        inputs_list.append(input_element.attrs)\n",
    "\n",
    "    # Create a DataFrame from the list of input elements\n",
    "    df = pd.DataFrame(inputs_list)\n",
    "\n",
    "    # Delete the search input\n",
    "    for index, row in df.iterrows():\n",
    "        if any(\"search\" in str(col).lower() for col in row):\n",
    "            df.drop(index, inplace=True)\n",
    "\n",
    "    #Skip for the inputs that has no label in aria label\n",
    "    for input_dict in inputs_list:\n",
    "        label = input_dict.get(\"aria-label\")\n",
    "        if label == \"no-label\":\n",
    "           continue\n",
    "        elif \"label\" in input_dict and input_dict[\"label\"] == \"no-label\":\n",
    "            continue\n",
    "\n",
    "    # Return the DataFrame\n",
    "    if len(df) > 8:\n",
    "        print(\"The input form is too long\")\n",
    "        print(len(df))\n",
    "        print(df)\n",
    "    else:\n",
    "        print(\"The input form looks good\")\n",
    "        print(len(df))\n",
    "        print(df)"
   ]
  },
  {
   "cell_type": "markdown",
   "source": [
    "Check ZARA checkout page"
   ],
   "metadata": {
    "collapsed": false
   }
  },
  {
   "cell_type": "code",
   "execution_count": 13,
   "id": "752bdc23",
   "metadata": {
    "ExecuteTime": {
     "end_time": "2023-05-10T07:03:19.745464Z",
     "start_time": "2023-05-10T07:03:19.625393Z"
    }
   },
   "outputs": [
    {
     "name": "stdout",
     "output_type": "stream",
     "text": [
      "The input form looks good\n",
      "8\n",
      "                                               class  \\\n",
      "0  [form-input-label__input, form-input-text__input]   \n",
      "1  [form-input-label__input, form-input-text__input]   \n",
      "2  [form-input-label__input, form-input-text__input]   \n",
      "3  [form-input-label__input, form-input-text__input]   \n",
      "4  [form-input-label__input, form-input-text__input]   \n",
      "5  [form-input-label__input, form-input-text__input]   \n",
      "6  [form-input-label__input, form-input-text__input]   \n",
      "7  [form-input-label__input, form-input-text__input]   \n",
      "\n",
      "                         name         placeholder  type  \\\n",
      "0                    lastName                      text   \n",
      "1                   firstName                      text   \n",
      "2             addressLines[0]                      text   \n",
      "3             addressLines[1]  マンション・アパートの階・部屋番号等  text   \n",
      "4                        city                      text   \n",
      "5                       email                      text   \n",
      "6       phones[0].countryCode                       tel   \n",
      "7  phones[0].subscriberNumber                       tel   \n",
      "\n",
      "      data-qa-input-qualifier  \\\n",
      "0                    lastName   \n",
      "1                   firstName   \n",
      "2             addressLines[0]   \n",
      "3             addressLines[1]   \n",
      "4                        city   \n",
      "5                       email   \n",
      "6       phones[0].countryCode   \n",
      "7  phones[0].subscriberNumber   \n",
      "\n",
      "                                     aria-labelledby aria-required value  \\\n",
      "0                   form-input__label-lastName-zds-4          true         \n",
      "1                  form-input__label-firstName-zds-5          true         \n",
      "2            form-input__label-addressLines[0]-zds-7          true         \n",
      "3            form-input__label-addressLines[1]-zds-8           NaN         \n",
      "4                       form-input__label-city-zds-9          true         \n",
      "5                     form-input__label-email-zds-12          true         \n",
      "6     form-input__label-phones[0].countryCode-zds-13          true   +81   \n",
      "7  form-input__label-phones[0].subscriberNumber-z...          true         \n",
      "\n",
      "       autocomplete   id aria-label  \n",
      "0               NaN  NaN        NaN  \n",
      "1               NaN  NaN        NaN  \n",
      "2               NaN  NaN        NaN  \n",
      "3               NaN  NaN        NaN  \n",
      "4               NaN  NaN        NaN  \n",
      "5               NaN  NaN        NaN  \n",
      "6  tel-country-code  NaN        NaN  \n",
      "7      tel-national  NaN        NaN  \n"
     ]
    }
   ],
   "source": [
    "ZARA= parse_html_inputs('ZARA - checkout page.html')"
   ]
  },
  {
   "cell_type": "markdown",
   "source": [
    "For Zara checkout, you can see that it is not counting the post code because the input type is autocomplete.However, if you add this postcode, you autofill the \"city\" input, which is counted as input here.<br>\n",
    " Therefor, the input count is technically the same. Will leave it as is for now."
   ],
   "metadata": {
    "collapsed": false,
    "ExecuteTime": {
     "end_time": "2023-05-08T08:57:33.602638Z",
     "start_time": "2023-05-08T08:57:33.499641Z"
    }
   },
   "outputs": [
    {
     "name": "stdout",
     "output_type": "stream",
     "text": [
      "The input form is too long\n",
      "16\n",
      "                         id            name      placeholder   type  \\\n",
      "0                     email           email             Eメール  email   \n",
      "1                TextField0        lastName                姓   text   \n",
      "2                TextField1       firstName           名 (任意)   text   \n",
      "3                postalCode      postalCode             郵便番号   text   \n",
      "4                TextField3            city             市区町村   text   \n",
      "5                TextField4        address1               住所   text   \n",
      "6                TextField5        address2  建物名、部屋番号など (任意)   text   \n",
      "7        autofill_firstName       firstName              NaN   text   \n",
      "8         autofill_lastName        lastName              NaN   text   \n",
      "9         autofill_address1        address1              NaN   text   \n",
      "10        autofill_address2        address2              NaN   text   \n",
      "11            autofill_city            city              NaN   text   \n",
      "12         autofill_country         country              NaN   text   \n",
      "13            autofill_zone            zone              NaN   text   \n",
      "14  autofill_address_level1  address-level1              NaN   text   \n",
      "15      autofill_postalCode      postalCode              NaN   text   \n",
      "\n",
      "     aria-labelledby             autocomplete autofocus  \\\n",
      "0        email-label           shipping email      true   \n",
      "1   TextField0-label     shipping family-name       NaN   \n",
      "2   TextField1-label      shipping given-name       NaN   \n",
      "3   postalCode-label     shipping postal-code       NaN   \n",
      "4   TextField3-label  shipping address-level2       NaN   \n",
      "5   TextField4-label   shipping address-line1       NaN   \n",
      "6   TextField5-label   shipping address-line2       NaN   \n",
      "7                NaN      shipping given-name       NaN   \n",
      "8                NaN     shipping family-name       NaN   \n",
      "9                NaN   shipping address-line1       NaN   \n",
      "10               NaN   shipping address-line2       NaN   \n",
      "11               NaN  shipping address-level2       NaN   \n",
      "12               NaN         shipping country       NaN   \n",
      "13               NaN  shipping address-level1       NaN   \n",
      "14               NaN  shipping address-level1       NaN   \n",
      "15               NaN     shipping postal-code       NaN   \n",
      "\n",
      "                                                class       aria-controls  \\\n",
      "0   [_7ozb2uu, _1fragema3, _1fragemar, _1fragem30,...            Popover0   \n",
      "1   [_7ozb2uu, _1fragema3, _1fragemar, _1fragem30,...                 NaN   \n",
      "2   [_7ozb2uu, _1fragema3, _1fragemar, _1fragem30,...                 NaN   \n",
      "3   [_7ozb2uu, _1fragema3, _1fragemar, _1fragem30,...  postalCode-options   \n",
      "4   [_7ozb2uu, _1fragema3, _1fragemar, _1fragem30,...                 NaN   \n",
      "5   [_7ozb2uu, _1fragema3, _1fragemar, _1fragem30,...                 NaN   \n",
      "6   [_7ozb2uu, _1fragema3, _1fragemar, _1fragem30,...                 NaN   \n",
      "7                                                 NaN                 NaN   \n",
      "8                                                 NaN                 NaN   \n",
      "9                                                 NaN                 NaN   \n",
      "10                                                NaN                 NaN   \n",
      "11                                                NaN                 NaN   \n",
      "12                                                NaN                 NaN   \n",
      "13                                                NaN                 NaN   \n",
      "14                                                NaN                 NaN   \n",
      "15                                                NaN                 NaN   \n",
      "\n",
      "   aria-expanded  ... aria-required aria-autocomplete           aria-owns  \\\n",
      "0          false  ...           NaN               NaN                 NaN   \n",
      "1            NaN  ...          true               NaN                 NaN   \n",
      "2            NaN  ...         false               NaN                 NaN   \n",
      "3          false  ...          true              list  postalCode-options   \n",
      "4            NaN  ...          true               NaN                 NaN   \n",
      "5            NaN  ...          true               NaN                 NaN   \n",
      "6            NaN  ...         false               NaN                 NaN   \n",
      "7            NaN  ...           NaN               NaN                 NaN   \n",
      "8            NaN  ...           NaN               NaN                 NaN   \n",
      "9            NaN  ...           NaN               NaN                 NaN   \n",
      "10           NaN  ...           NaN               NaN                 NaN   \n",
      "11           NaN  ...           NaN               NaN                 NaN   \n",
      "12           NaN  ...           NaN               NaN                 NaN   \n",
      "13           NaN  ...           NaN               NaN                 NaN   \n",
      "14           NaN  ...           NaN               NaN                 NaN   \n",
      "15           NaN  ...           NaN               NaN                 NaN   \n",
      "\n",
      "   aria-haspopup      role autocorrect tabindex label aria-hidden aria-label  \n",
      "0            NaN       NaN         NaN      NaN   NaN         NaN        NaN  \n",
      "1            NaN       NaN         NaN      NaN   NaN         NaN        NaN  \n",
      "2            NaN       NaN         NaN      NaN   NaN         NaN        NaN  \n",
      "3        listbox  combobox         off      NaN   NaN         NaN        NaN  \n",
      "4            NaN       NaN         NaN      NaN   NaN         NaN        NaN  \n",
      "5            NaN       NaN         NaN      NaN   NaN         NaN        NaN  \n",
      "6            NaN       NaN         NaN      NaN   NaN         NaN        NaN  \n",
      "7            NaN       NaN         NaN       -1              true   no-label  \n",
      "8            NaN       NaN         NaN       -1              true   no-label  \n",
      "9            NaN       NaN         NaN       -1              true   no-label  \n",
      "10           NaN       NaN         NaN       -1              true   no-label  \n",
      "11           NaN       NaN         NaN       -1              true   no-label  \n",
      "12           NaN       NaN         NaN       -1              true   no-label  \n",
      "13           NaN       NaN         NaN       -1              true   no-label  \n",
      "14           NaN       NaN         NaN       -1              true   no-label  \n",
      "15           NaN       NaN         NaN       -1              true   no-label  \n",
      "\n",
      "[16 rows x 21 columns]\n"
     ]
    }
   ],
   "execution_count": 14
  },
  {
   "cell_type": "markdown",
   "source": [
    "Check DemoShopify checkout page"
   ],
   "metadata": {
    "collapsed": false
   }
  },
  {
   "cell_type": "code",
   "execution_count": 16,
   "id": "b36d11b5",
   "metadata": {
    "ExecuteTime": {
     "end_time": "2023-05-10T07:03:55.538251Z",
     "start_time": "2023-05-10T07:03:55.513645Z"
    }
   },
   "outputs": [
    {
     "name": "stdout",
     "output_type": "stream",
     "text": [
      "The input form is too long\n",
      "16\n",
      "                         id            name      placeholder   type  \\\n",
      "0                     email           email             Eメール  email   \n",
      "1                TextField0        lastName                姓   text   \n",
      "2                TextField1       firstName           名 (任意)   text   \n",
      "3                postalCode      postalCode             郵便番号   text   \n",
      "4                TextField3            city             市区町村   text   \n",
      "5                TextField4        address1               住所   text   \n",
      "6                TextField5        address2  建物名、部屋番号など (任意)   text   \n",
      "7        autofill_firstName       firstName              NaN   text   \n",
      "8         autofill_lastName        lastName              NaN   text   \n",
      "9         autofill_address1        address1              NaN   text   \n",
      "10        autofill_address2        address2              NaN   text   \n",
      "11            autofill_city            city              NaN   text   \n",
      "12         autofill_country         country              NaN   text   \n",
      "13            autofill_zone            zone              NaN   text   \n",
      "14  autofill_address_level1  address-level1              NaN   text   \n",
      "15      autofill_postalCode      postalCode              NaN   text   \n",
      "\n",
      "     aria-labelledby             autocomplete autofocus  \\\n",
      "0        email-label           shipping email      true   \n",
      "1   TextField0-label     shipping family-name       NaN   \n",
      "2   TextField1-label      shipping given-name       NaN   \n",
      "3   postalCode-label     shipping postal-code       NaN   \n",
      "4   TextField3-label  shipping address-level2       NaN   \n",
      "5   TextField4-label   shipping address-line1       NaN   \n",
      "6   TextField5-label   shipping address-line2       NaN   \n",
      "7                NaN      shipping given-name       NaN   \n",
      "8                NaN     shipping family-name       NaN   \n",
      "9                NaN   shipping address-line1       NaN   \n",
      "10               NaN   shipping address-line2       NaN   \n",
      "11               NaN  shipping address-level2       NaN   \n",
      "12               NaN         shipping country       NaN   \n",
      "13               NaN  shipping address-level1       NaN   \n",
      "14               NaN  shipping address-level1       NaN   \n",
      "15               NaN     shipping postal-code       NaN   \n",
      "\n",
      "                                                class       aria-controls  \\\n",
      "0   [_7ozb2uu, _1fragema3, _1fragemar, _1fragem30,...            Popover0   \n",
      "1   [_7ozb2uu, _1fragema3, _1fragemar, _1fragem30,...                 NaN   \n",
      "2   [_7ozb2uu, _1fragema3, _1fragemar, _1fragem30,...                 NaN   \n",
      "3   [_7ozb2uu, _1fragema3, _1fragemar, _1fragem30,...  postalCode-options   \n",
      "4   [_7ozb2uu, _1fragema3, _1fragemar, _1fragem30,...                 NaN   \n",
      "5   [_7ozb2uu, _1fragema3, _1fragemar, _1fragem30,...                 NaN   \n",
      "6   [_7ozb2uu, _1fragema3, _1fragemar, _1fragem30,...                 NaN   \n",
      "7                                                 NaN                 NaN   \n",
      "8                                                 NaN                 NaN   \n",
      "9                                                 NaN                 NaN   \n",
      "10                                                NaN                 NaN   \n",
      "11                                                NaN                 NaN   \n",
      "12                                                NaN                 NaN   \n",
      "13                                                NaN                 NaN   \n",
      "14                                                NaN                 NaN   \n",
      "15                                                NaN                 NaN   \n",
      "\n",
      "   aria-expanded  ... aria-required aria-autocomplete           aria-owns  \\\n",
      "0          false  ...           NaN               NaN                 NaN   \n",
      "1            NaN  ...          true               NaN                 NaN   \n",
      "2            NaN  ...         false               NaN                 NaN   \n",
      "3          false  ...          true              list  postalCode-options   \n",
      "4            NaN  ...          true               NaN                 NaN   \n",
      "5            NaN  ...          true               NaN                 NaN   \n",
      "6            NaN  ...         false               NaN                 NaN   \n",
      "7            NaN  ...           NaN               NaN                 NaN   \n",
      "8            NaN  ...           NaN               NaN                 NaN   \n",
      "9            NaN  ...           NaN               NaN                 NaN   \n",
      "10           NaN  ...           NaN               NaN                 NaN   \n",
      "11           NaN  ...           NaN               NaN                 NaN   \n",
      "12           NaN  ...           NaN               NaN                 NaN   \n",
      "13           NaN  ...           NaN               NaN                 NaN   \n",
      "14           NaN  ...           NaN               NaN                 NaN   \n",
      "15           NaN  ...           NaN               NaN                 NaN   \n",
      "\n",
      "   aria-haspopup      role autocorrect tabindex label aria-hidden aria-label  \n",
      "0            NaN       NaN         NaN      NaN   NaN         NaN        NaN  \n",
      "1            NaN       NaN         NaN      NaN   NaN         NaN        NaN  \n",
      "2            NaN       NaN         NaN      NaN   NaN         NaN        NaN  \n",
      "3        listbox  combobox         off      NaN   NaN         NaN        NaN  \n",
      "4            NaN       NaN         NaN      NaN   NaN         NaN        NaN  \n",
      "5            NaN       NaN         NaN      NaN   NaN         NaN        NaN  \n",
      "6            NaN       NaN         NaN      NaN   NaN         NaN        NaN  \n",
      "7            NaN       NaN         NaN       -1              true   no-label  \n",
      "8            NaN       NaN         NaN       -1              true   no-label  \n",
      "9            NaN       NaN         NaN       -1              true   no-label  \n",
      "10           NaN       NaN         NaN       -1              true   no-label  \n",
      "11           NaN       NaN         NaN       -1              true   no-label  \n",
      "12           NaN       NaN         NaN       -1              true   no-label  \n",
      "13           NaN       NaN         NaN       -1              true   no-label  \n",
      "14           NaN       NaN         NaN       -1              true   no-label  \n",
      "15           NaN       NaN         NaN       -1              true   no-label  \n",
      "\n",
      "[16 rows x 21 columns]\n"
     ]
    }
   ],
   "source": [
    "DemoShopify= parse_html_inputs(\"DemoShopify - Checkout page.html\")"
   ]
  },
  {
   "cell_type": "markdown",
   "source": [
    "or this one, it's counting ones that are hidden. Not sure why.\n",
    "Need to delete the delete the ones that has the aria-hidden as \"true\""
   ],
   "metadata": {
    "collapsed": false
   }
  },
  {
   "cell_type": "markdown",
   "source": [
    "Check COACH checkout page"
   ],
   "metadata": {
    "collapsed": false
   }
  },
  {
   "cell_type": "code",
   "execution_count": 18,
   "outputs": [
    {
     "name": "stdout",
     "output_type": "stream",
     "text": [
      "The input form is too long\n",
      "26\n",
      "     type                                              class  \\\n",
      "0    text  [form-control, shippingLastName, isvalid-lname...   \n",
      "1    text  [form-control, shippingFirstName, isvalid-fnam...   \n",
      "2    text  [form-control, shippingLastName, isvalid-lname...   \n",
      "3    text  [form-control, shippingFirstName, isvalid-fnam...   \n",
      "4    text  [js-loqate-zipcode, form-control, shippingZipC...   \n",
      "5    text  [form-control, shippingAddressCity, loqateDepe...   \n",
      "6    text  [form-control, shippingAddressOne, loqateDepen...   \n",
      "7    text  [form-control, isvalid-jp-address-en-fwnum, lo...   \n",
      "8   email                      [form-control, isvalid-email]   \n",
      "9     tel  [form-control, isvalid-phoneno, country-depend...   \n",
      "10   text                  [form-control, coupon-code-field]   \n",
      "11   text     [form-control, cardNumber, isvalid-cardnumber]   \n",
      "12    tel  [form-control, ccexpirationDate, isvalid-expir...   \n",
      "13    tel                    [form-control, expirationMonth]   \n",
      "14    tel                     [form-control, expirationYear]   \n",
      "15   text          [form-control, securityCode, isvalid-cvv]   \n",
      "16   text  [form-control, cardHolderName, isvalid-cardhol...   \n",
      "17   text  [form-control, billingLastName, required, isva...   \n",
      "18   text  [form-control, billingFirstName, required, isv...   \n",
      "19   text  [form-control, billingLastName, required, isva...   \n",
      "20   text  [form-control, billingFirstName, required, isv...   \n",
      "21   text  [js-loqate-zipcode, form-control, billingZipCo...   \n",
      "23   text  [form-control, billingAddressCity, country-dep...   \n",
      "24   text  [form-control, billingAddressOne, country-depe...   \n",
      "25   text  [form-control, billingAddressTwo, country-depe...   \n",
      "26    tel  [form-control, billingPhoneNumber, isvalid-pho...   \n",
      "\n",
      "        data-missing-error              data-qa     data-char-error  \\\n",
      "0          お名前（姓）を入力してください        cbs_inp_lname   数字・その他記号は入力できません。   \n",
      "1          お名前（名）を入力してください        cbs_inp_fname   数字・その他記号は入力できません。   \n",
      "2          お名前（姓）を入力してください        cbs_inp_lname                 NaN   \n",
      "3          お名前（名）を入力してください        cbs_inp_fname                 NaN   \n",
      "4            半角数字で入力してください          cbs_inp_zip                 NaN   \n",
      "5            市区町村を選択してください         cbs_inp_city                 NaN   \n",
      "6         丁目・番地・号を入力してください         cbs_inp_add1  英数字や記号は半角でご入力ください。   \n",
      "7   アパート・マンション名などを入力してください         cbs_inp_add2  英数字や記号は半角でご入力ください。   \n",
      "8       Eメールアドレスを入力してください。  cbs_inp_cntct_email                 NaN   \n",
      "9         有効な電話番号を入力してください    cbs_inp_cntct_phn                 NaN   \n",
      "10                     NaN           cbp_inp_pc                 NaN   \n",
      "11          カード番号を入力してください                  NaN                 NaN   \n",
      "12           有効期限を入力してください                  NaN                 NaN   \n",
      "13                     NaN                  NaN                 NaN   \n",
      "14                     NaN                  NaN                 NaN   \n",
      "15      セキュリティコードを入力してください                  NaN                 NaN   \n",
      "16            お名前を入力してください                  NaN                 NaN   \n",
      "17         お名前（姓）を入力してください    cbp_inp_blnglname   数字・その他記号は入力できません。   \n",
      "18         お名前（名）を入力してください    cbp_inp_blngfname   数字・その他記号は入力できません。   \n",
      "19         お名前（姓）を入力してください    cbp_inp_blnglname                 NaN   \n",
      "20         お名前（名）を入力してください    cbp_inp_blngfname                 NaN   \n",
      "21           半角数字で入力してください      cbp_inp_blngzip                 NaN   \n",
      "23           市区町村を選択してください     cbp_inp_blngcity                 NaN   \n",
      "24        丁目・番地・号を入力してください     cbp_inp_blngadd1  英数字や記号は半角でご入力ください。   \n",
      "25  アパート・マンション名などを入力してください     cbp_inp_blngadd2  英数字や記号は半角でご入力ください。   \n",
      "26        有効な電話番号を入力してください    cbp_inp_blngphone                 NaN   \n",
      "\n",
      "                              id              aria-describedby value  \\\n",
      "0        shippingLastNamedefault               defaultLastName         \n",
      "1       shippingFirstNamedefault              defaultFirstName         \n",
      "2    shippingKanaLastNamedefault           defaultKanaLastName         \n",
      "3   shippingKanaFirstNamedefault          defaultKanaFirstName         \n",
      "4         shippingZipCodedefault                defaultZipCode         \n",
      "5     shippingAddressCitydefault                   defaultCity         \n",
      "6      shippingAddressOnedefault           defaultAddressLine1         \n",
      "7      shippingAddressTwodefault           defaultAddressLine2         \n",
      "8                          email           emailInvalidMessage         \n",
      "9                    phoneNumber              form-phone-error         \n",
      "10                    couponCode                           NaN   NaN   \n",
      "11                    cardNumber      cardNumberInvalidMessage         \n",
      "12              ccexpirationDate  expirationDateInvalidMessage         \n",
      "13               expirationMonth                           NaN         \n",
      "14                expirationYear                           NaN         \n",
      "15                  securityCode    securityCodeInvalidMessage         \n",
      "16                cardHolderName  cardHolderNameInvalidMessage         \n",
      "17               billingLastName                      LastName         \n",
      "18              billingFirstName                     FirstName         \n",
      "19           billingKanaLastName                 KannaLastName         \n",
      "20          billingKanaFirstName                 KanaFirstName         \n",
      "21                billingZipCode                       ZipCode         \n",
      "23            billingAddressCity                          City         \n",
      "24             billingAddressOne                  AddressLine1         \n",
      "25             billingAddressTwo                  AddressLine2         \n",
      "26            billingPhoneNumber               TelephoneNumber         \n",
      "\n",
      "                                                 name required  ...  \\\n",
      "0   dwfrm_shipping_shippingAddress_addressFields_l...           ...   \n",
      "1   dwfrm_shipping_shippingAddress_addressFields_f...           ...   \n",
      "2   dwfrm_shipping_shippingAddress_addressFields_k...           ...   \n",
      "3   dwfrm_shipping_shippingAddress_addressFields_k...           ...   \n",
      "4   dwfrm_shipping_shippingAddress_addressFields_p...           ...   \n",
      "5   dwfrm_shipping_shippingAddress_addressFields_city           ...   \n",
      "6   dwfrm_shipping_shippingAddress_addressFields_a...           ...   \n",
      "7   dwfrm_shipping_shippingAddress_addressFields_a...      NaN  ...   \n",
      "8              dwfrm_shipping_contactInfoFields_email           ...   \n",
      "9              dwfrm_shipping_contactInfoFields_phone           ...   \n",
      "10                                         couponCode      NaN  ...   \n",
      "11       dwfrm_billing_gmoCreditCardFields_cardNumber           ...   \n",
      "12  dwfrm_billing_gmoCreditCardFields_expiration_e...           ...   \n",
      "13  dwfrm_billing_gmoCreditCardFields_expiration_e...           ...   \n",
      "14  dwfrm_billing_gmoCreditCardFields_expiration_e...           ...   \n",
      "15     dwfrm_billing_gmoCreditCardFields_securityCode           ...   \n",
      "16   dwfrm_billing_gmoCreditCardFields_cardHolderName           ...   \n",
      "17               dwfrm_billing_addressFields_lastName           ...   \n",
      "18              dwfrm_billing_addressFields_firstName           ...   \n",
      "19  dwfrm_billing_addressFields_kanaLastNameMandatory           ...   \n",
      "20  dwfrm_billing_addressFields_kanaFirstNameManda...           ...   \n",
      "21             dwfrm_billing_addressFields_postalCode           ...   \n",
      "23                   dwfrm_billing_addressFields_city           ...   \n",
      "24               dwfrm_billing_addressFields_address1           ...   \n",
      "25               dwfrm_billing_addressFields_address2      NaN  ...   \n",
      "26                  dwfrm_billing_addressFields_phone           ...   \n",
      "\n",
      "   data-invalid-error data-form-type data-keyup-validation-exclude  \\\n",
      "0                 NaN            NaN                           NaN   \n",
      "1                 NaN            NaN                           NaN   \n",
      "2                 NaN            NaN                           NaN   \n",
      "3                 NaN            NaN                           NaN   \n",
      "4       半角数字で入力してください       shipping                        number   \n",
      "5                 NaN            NaN                           NaN   \n",
      "6                 NaN            NaN                           NaN   \n",
      "7                 NaN            NaN                           NaN   \n",
      "8                 NaN            NaN                           NaN   \n",
      "9                 NaN            NaN                           NaN   \n",
      "10                NaN            NaN                           NaN   \n",
      "11                NaN            NaN                           NaN   \n",
      "12                NaN            NaN                           NaN   \n",
      "13                NaN            NaN                           NaN   \n",
      "14                NaN            NaN                           NaN   \n",
      "15                NaN            NaN                           NaN   \n",
      "16                NaN            NaN                           NaN   \n",
      "17                NaN            NaN                           NaN   \n",
      "18                NaN            NaN                           NaN   \n",
      "19                NaN            NaN                           NaN   \n",
      "20                NaN            NaN                           NaN   \n",
      "21                NaN        billing                        number   \n",
      "23                NaN            NaN                           NaN   \n",
      "24                NaN            NaN                           NaN   \n",
      "25                NaN            NaN                           NaN   \n",
      "26                NaN            NaN                           NaN   \n",
      "\n",
      "   aria-invalid autocomplete data-locale data-formatphoneno data-nosubmit  \\\n",
      "0           NaN          NaN         NaN                NaN           NaN   \n",
      "1           NaN          NaN         NaN                NaN           NaN   \n",
      "2           NaN          NaN         NaN                NaN           NaN   \n",
      "3           NaN          NaN         NaN                NaN           NaN   \n",
      "4           NaN          NaN         NaN                NaN           NaN   \n",
      "5           NaN          NaN         NaN                NaN           NaN   \n",
      "6           NaN          NaN         NaN                NaN           NaN   \n",
      "7         false          NaN         NaN                NaN           NaN   \n",
      "8           NaN          NaN         NaN                NaN           NaN   \n",
      "9           NaN          tel          JP              false           NaN   \n",
      "10        false          NaN         NaN                NaN           NaN   \n",
      "11          NaN    cc-number         NaN                NaN                 \n",
      "12          NaN       cc-exp         NaN                NaN                 \n",
      "13          NaN          NaN         NaN                NaN                 \n",
      "14          NaN          NaN         NaN                NaN                 \n",
      "15          NaN          off         NaN                NaN                 \n",
      "16          NaN          NaN         NaN                NaN           NaN   \n",
      "17        false         name         NaN                NaN           NaN   \n",
      "18        false          NaN         NaN                NaN           NaN   \n",
      "19        false          NaN         NaN                NaN           NaN   \n",
      "20        false          NaN         NaN                NaN           NaN   \n",
      "21        false          NaN         NaN                NaN           NaN   \n",
      "23        false          NaN         NaN                NaN           NaN   \n",
      "24        false          NaN         NaN                NaN           NaN   \n",
      "25        false          NaN         NaN                NaN           NaN   \n",
      "26        false          NaN          JP              false           NaN   \n",
      "\n",
      "   autofocus data-result-placeholder  \n",
      "0        NaN                     NaN  \n",
      "1        NaN                     NaN  \n",
      "2        NaN                     NaN  \n",
      "3        NaN                     NaN  \n",
      "4        NaN                     NaN  \n",
      "5        NaN                     NaN  \n",
      "6        NaN                     NaN  \n",
      "7        NaN                     NaN  \n",
      "8        NaN                     NaN  \n",
      "9        NaN                     NaN  \n",
      "10       NaN                     NaN  \n",
      "11       NaN                     NaN  \n",
      "12       NaN                     NaN  \n",
      "13       NaN                     NaN  \n",
      "14       NaN                     NaN  \n",
      "15       NaN                     NaN  \n",
      "16       NaN                     NaN  \n",
      "17                               NaN  \n",
      "18       NaN                     NaN  \n",
      "19       NaN                     NaN  \n",
      "20                               NaN  \n",
      "21       NaN                     NaN  \n",
      "23       NaN                     NaN  \n",
      "24       NaN   入力を続けるとアドレスがさらに表示されます  \n",
      "25       NaN                     NaN  \n",
      "26       NaN                     NaN  \n",
      "\n",
      "[26 rows x 26 columns]\n"
     ]
    }
   ],
   "source": [
    "Coach = parse_html_inputs(\"COACH - checkput page.html\")"
   ],
   "metadata": {
    "collapsed": false,
    "ExecuteTime": {
     "end_time": "2023-05-10T07:04:48.431406Z",
     "start_time": "2023-05-10T07:04:48.339836Z"
    }
   }
  },
  {
   "cell_type": "markdown",
   "source": [
    "Delete the ones that has \"billing\" in id, since there is no need to add if it's shipping address = billing address"
   ],
   "metadata": {
    "collapsed": false
   }
  },
  {
   "cell_type": "code",
   "execution_count": null,
   "outputs": [],
   "source": [],
   "metadata": {
    "collapsed": false
   }
  }
 ],
 "metadata": {
  "kernelspec": {
   "display_name": "Python 3 (ipykernel)",
   "language": "python",
   "name": "python3"
  },
  "language_info": {
   "codemirror_mode": {
    "name": "ipython",
    "version": 3
   },
   "file_extension": ".py",
   "mimetype": "text/x-python",
   "name": "python",
   "nbconvert_exporter": "python",
   "pygments_lexer": "ipython3",
   "version": "3.9.13"
  }
 },
 "nbformat": 4,
 "nbformat_minor": 5
}

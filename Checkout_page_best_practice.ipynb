{
 "cells": [
  {
   "cell_type": "markdown",
   "source": [
    "# Recommendation for 5 best practicies on check out page\n",
    "- Check for 4 websites(Muji, Zara, Ralph Lauren, DemoShopify)\n",
    "\n",
    "## 1. Check the number of input forms\n",
    "- If it is larger than 8 inputs, it maybe too long"
   ],
   "metadata": {
    "collapsed": false
   }
  },
  {
   "cell_type": "code",
   "execution_count": 4,
   "id": "3b728ebd",
   "metadata": {
    "ExecuteTime": {
     "end_time": "2023-05-10T06:39:50.692760Z",
     "start_time": "2023-05-10T06:39:49.450514Z"
    }
   },
   "outputs": [],
   "source": [
    "import pandas as pd\n",
    "from bs4 import BeautifulSoup"
   ]
  },
  {
   "cell_type": "code",
   "execution_count": 5,
   "id": "3c22b9de",
   "metadata": {
    "ExecuteTime": {
     "end_time": "2023-05-10T06:39:50.700703Z",
     "start_time": "2023-05-10T06:39:50.694916Z"
    }
   },
   "outputs": [],
   "source": [
    "with open('無印良品.html', 'r') as f:\n",
    "    html = f.read()"
   ]
  },
  {
   "cell_type": "code",
   "execution_count": 6,
   "id": "f6f45f9f",
   "metadata": {
    "ExecuteTime": {
     "end_time": "2023-05-10T06:39:50.747047Z",
     "start_time": "2023-05-10T06:39:50.744802Z"
    }
   },
   "outputs": [],
   "source": [
    "soup = BeautifulSoup(html, 'html.parser')"
   ]
  },
  {
   "cell_type": "code",
   "execution_count": 7,
   "id": "2c828f99",
   "metadata": {
    "ExecuteTime": {
     "end_time": "2023-05-10T06:39:50.751887Z",
     "start_time": "2023-05-10T06:39:50.750109Z"
    }
   },
   "outputs": [],
   "source": [
    "input_elements = soup.find_all('input',{'type':['text','email','tel']})"
   ]
  },
  {
   "cell_type": "code",
   "execution_count": 8,
   "id": "50b77e49",
   "metadata": {
    "ExecuteTime": {
     "end_time": "2023-05-10T06:39:50.757005Z",
     "start_time": "2023-05-10T06:39:50.754258Z"
    }
   },
   "outputs": [
    {
     "name": "stdout",
     "output_type": "stream",
     "text": [
      "10\n"
     ]
    }
   ],
   "source": [
    "print(len(input_elements))"
   ]
  },
  {
   "cell_type": "code",
   "execution_count": 9,
   "id": "2856e57e",
   "metadata": {
    "ExecuteTime": {
     "end_time": "2023-05-10T06:39:50.760645Z",
     "start_time": "2023-05-10T06:39:50.758566Z"
    }
   },
   "outputs": [],
   "source": [
    "# Create a list of dictionaries for each input element\n",
    "inputs_list = []\n",
    "for input_element in input_elements:\n",
    "    inputs_list.append(input_element.attrs)"
   ]
  },
  {
   "cell_type": "code",
   "execution_count": 10,
   "id": "4524a28e",
   "metadata": {
    "ExecuteTime": {
     "end_time": "2023-05-10T06:39:50.766690Z",
     "start_time": "2023-05-10T06:39:50.764889Z"
    }
   },
   "outputs": [],
   "source": [
    "df = pd.DataFrame(inputs_list)"
   ]
  },
  {
   "cell_type": "code",
   "execution_count": 11,
   "id": "7a1298fc",
   "metadata": {
    "scrolled": true,
    "ExecuteTime": {
     "end_time": "2023-05-10T06:39:50.788379Z",
     "start_time": "2023-05-10T06:39:50.770369Z"
    }
   },
   "outputs": [
    {
     "data": {
      "text/plain": "                          id          placeholder maxlength sectionbtnfocus  \\\n0          searchInputLayout             キーワードで探す       128               1   \n1         customerInfo.email  abcdef1234@muji.com       NaN             NaN   \n2      customerInfo.fullName                無印　太郎       NaN             NaN   \n3  customerInfo.fullNameKana             ムジルシ　タロウ       NaN             NaN   \n4       customerInfo.zipCode              1708424         8             NaN   \n5      customerInfo.address1               東京都豊島区       NaN             NaN   \n6      customerInfo.address2                  東池袋       NaN             NaN   \n7      customerInfo.address3               ４ー２６ー３       NaN             NaN   \n8      customerInfo.address4                  NaN       NaN             NaN   \n9         customerInfo.telNo           0339894191        13             NaN   \n\n  inputbackgroundcolor                                              class  \\\n0             #f5f5f5;                                        [ant-input]   \n1                  NaN  [ant-input, textField__Input-sc-17ccvkc-1, iSh...   \n2                  NaN                                                NaN   \n3                  NaN                                                NaN   \n4                  NaN                                        [ant-input]   \n5                  NaN  [ant-input, ant-input-disabled, textField__Inp...   \n6                  NaN  [ant-input, textField__Input-sc-17ccvkc-1, iSh...   \n7                  NaN  [ant-input, textField__Input-sc-17ccvkc-1, iSh...   \n8                  NaN  [ant-input, textField__Input-sc-17ccvkc-1, iSh...   \n9                  NaN  [ant-input, digitsField__Input-sc-12tpvpc-1, g...   \n\n   type value width height inputmode      data-__meta     data-__field  \\\n0  text         NaN    NaN       NaN              NaN              NaN   \n1  text        100%   auto     email  [object Object]  [object Object]   \n2  text         NaN    NaN       NaN  [object Object]  [object Object]   \n3  text         NaN    NaN       NaN  [object Object]  [object Object]   \n4   tel         NaN    NaN       NaN  [object Object]  [object Object]   \n5  text        100%   auto       NaN  [object Object]  [object Object]   \n6  text        100%   auto       NaN  [object Object]  [object Object]   \n7  text        100%   auto       NaN  [object Object]  [object Object]   \n8  text        100%   auto       NaN  [object Object]  [object Object]   \n9   tel        100%   auto       NaN  [object Object]  [object Object]   \n\n                        name disabled                    style  \n0                        NaN      NaN                      NaN  \n1                        NaN      NaN                      NaN  \n2      customerInfo.fullName      NaN                      NaN  \n3  customerInfo.fullNameKana      NaN                      NaN  \n4                        NaN      NaN                      NaN  \n5                        NaN           color: rgb(88, 88, 88);  \n6                        NaN      NaN                      NaN  \n7                        NaN      NaN                      NaN  \n8                        NaN      NaN                      NaN  \n9                        NaN      NaN                      NaN  ",
      "text/html": "<div>\n<style scoped>\n    .dataframe tbody tr th:only-of-type {\n        vertical-align: middle;\n    }\n\n    .dataframe tbody tr th {\n        vertical-align: top;\n    }\n\n    .dataframe thead th {\n        text-align: right;\n    }\n</style>\n<table border=\"1\" class=\"dataframe\">\n  <thead>\n    <tr style=\"text-align: right;\">\n      <th></th>\n      <th>id</th>\n      <th>placeholder</th>\n      <th>maxlength</th>\n      <th>sectionbtnfocus</th>\n      <th>inputbackgroundcolor</th>\n      <th>class</th>\n      <th>type</th>\n      <th>value</th>\n      <th>width</th>\n      <th>height</th>\n      <th>inputmode</th>\n      <th>data-__meta</th>\n      <th>data-__field</th>\n      <th>name</th>\n      <th>disabled</th>\n      <th>style</th>\n    </tr>\n  </thead>\n  <tbody>\n    <tr>\n      <th>0</th>\n      <td>searchInputLayout</td>\n      <td>キーワードで探す</td>\n      <td>128</td>\n      <td>1</td>\n      <td>#f5f5f5;</td>\n      <td>[ant-input]</td>\n      <td>text</td>\n      <td></td>\n      <td>NaN</td>\n      <td>NaN</td>\n      <td>NaN</td>\n      <td>NaN</td>\n      <td>NaN</td>\n      <td>NaN</td>\n      <td>NaN</td>\n      <td>NaN</td>\n    </tr>\n    <tr>\n      <th>1</th>\n      <td>customerInfo.email</td>\n      <td>abcdef1234@muji.com</td>\n      <td>NaN</td>\n      <td>NaN</td>\n      <td>NaN</td>\n      <td>[ant-input, textField__Input-sc-17ccvkc-1, iSh...</td>\n      <td>text</td>\n      <td></td>\n      <td>100%</td>\n      <td>auto</td>\n      <td>email</td>\n      <td>[object Object]</td>\n      <td>[object Object]</td>\n      <td>NaN</td>\n      <td>NaN</td>\n      <td>NaN</td>\n    </tr>\n    <tr>\n      <th>2</th>\n      <td>customerInfo.fullName</td>\n      <td>無印　太郎</td>\n      <td>NaN</td>\n      <td>NaN</td>\n      <td>NaN</td>\n      <td>NaN</td>\n      <td>text</td>\n      <td></td>\n      <td>NaN</td>\n      <td>NaN</td>\n      <td>NaN</td>\n      <td>[object Object]</td>\n      <td>[object Object]</td>\n      <td>customerInfo.fullName</td>\n      <td>NaN</td>\n      <td>NaN</td>\n    </tr>\n    <tr>\n      <th>3</th>\n      <td>customerInfo.fullNameKana</td>\n      <td>ムジルシ　タロウ</td>\n      <td>NaN</td>\n      <td>NaN</td>\n      <td>NaN</td>\n      <td>NaN</td>\n      <td>text</td>\n      <td></td>\n      <td>NaN</td>\n      <td>NaN</td>\n      <td>NaN</td>\n      <td>[object Object]</td>\n      <td>[object Object]</td>\n      <td>customerInfo.fullNameKana</td>\n      <td>NaN</td>\n      <td>NaN</td>\n    </tr>\n    <tr>\n      <th>4</th>\n      <td>customerInfo.zipCode</td>\n      <td>1708424</td>\n      <td>8</td>\n      <td>NaN</td>\n      <td>NaN</td>\n      <td>[ant-input]</td>\n      <td>tel</td>\n      <td></td>\n      <td>NaN</td>\n      <td>NaN</td>\n      <td>NaN</td>\n      <td>[object Object]</td>\n      <td>[object Object]</td>\n      <td>NaN</td>\n      <td>NaN</td>\n      <td>NaN</td>\n    </tr>\n    <tr>\n      <th>5</th>\n      <td>customerInfo.address1</td>\n      <td>東京都豊島区</td>\n      <td>NaN</td>\n      <td>NaN</td>\n      <td>NaN</td>\n      <td>[ant-input, ant-input-disabled, textField__Inp...</td>\n      <td>text</td>\n      <td></td>\n      <td>100%</td>\n      <td>auto</td>\n      <td>NaN</td>\n      <td>[object Object]</td>\n      <td>[object Object]</td>\n      <td>NaN</td>\n      <td></td>\n      <td>color: rgb(88, 88, 88);</td>\n    </tr>\n    <tr>\n      <th>6</th>\n      <td>customerInfo.address2</td>\n      <td>東池袋</td>\n      <td>NaN</td>\n      <td>NaN</td>\n      <td>NaN</td>\n      <td>[ant-input, textField__Input-sc-17ccvkc-1, iSh...</td>\n      <td>text</td>\n      <td></td>\n      <td>100%</td>\n      <td>auto</td>\n      <td>NaN</td>\n      <td>[object Object]</td>\n      <td>[object Object]</td>\n      <td>NaN</td>\n      <td>NaN</td>\n      <td>NaN</td>\n    </tr>\n    <tr>\n      <th>7</th>\n      <td>customerInfo.address3</td>\n      <td>４ー２６ー３</td>\n      <td>NaN</td>\n      <td>NaN</td>\n      <td>NaN</td>\n      <td>[ant-input, textField__Input-sc-17ccvkc-1, iSh...</td>\n      <td>text</td>\n      <td></td>\n      <td>100%</td>\n      <td>auto</td>\n      <td>NaN</td>\n      <td>[object Object]</td>\n      <td>[object Object]</td>\n      <td>NaN</td>\n      <td>NaN</td>\n      <td>NaN</td>\n    </tr>\n    <tr>\n      <th>8</th>\n      <td>customerInfo.address4</td>\n      <td>NaN</td>\n      <td>NaN</td>\n      <td>NaN</td>\n      <td>NaN</td>\n      <td>[ant-input, textField__Input-sc-17ccvkc-1, iSh...</td>\n      <td>text</td>\n      <td></td>\n      <td>100%</td>\n      <td>auto</td>\n      <td>NaN</td>\n      <td>[object Object]</td>\n      <td>[object Object]</td>\n      <td>NaN</td>\n      <td>NaN</td>\n      <td>NaN</td>\n    </tr>\n    <tr>\n      <th>9</th>\n      <td>customerInfo.telNo</td>\n      <td>0339894191</td>\n      <td>13</td>\n      <td>NaN</td>\n      <td>NaN</td>\n      <td>[ant-input, digitsField__Input-sc-12tpvpc-1, g...</td>\n      <td>tel</td>\n      <td></td>\n      <td>100%</td>\n      <td>auto</td>\n      <td>NaN</td>\n      <td>[object Object]</td>\n      <td>[object Object]</td>\n      <td>NaN</td>\n      <td>NaN</td>\n      <td>NaN</td>\n    </tr>\n  </tbody>\n</table>\n</div>"
     },
     "execution_count": 11,
     "metadata": {},
     "output_type": "execute_result"
    }
   ],
   "source": [
    "df"
   ]
  },
  {
   "cell_type": "markdown",
   "id": "39813766",
   "metadata": {
    "ExecuteTime": {
     "end_time": "2023-05-10T02:08:33.389467Z",
     "start_time": "2023-05-10T02:08:33.378786Z"
    }
   },
   "source": [
    "## Special case1 : Don't count the search bar input\n",
    "- Skip for the input that has \"search\" in id"
   ],
   "outputs": [],
   "execution_count": 83
  },
  {
   "cell_type": "code",
   "execution_count": 12,
   "id": "22ed3780",
   "metadata": {
    "ExecuteTime": {
     "end_time": "2023-05-10T06:39:50.792401Z",
     "start_time": "2023-05-10T06:39:50.789950Z"
    }
   },
   "outputs": [],
   "source": [
    "for index, row in df.iterrows():\n",
    "    if any(\"search\" in str(col).lower() for col in row):\n",
    "        df.drop(index, inplace=True)"
   ]
  },
  {
   "cell_type": "code",
   "execution_count": 13,
   "id": "5fda89b2",
   "metadata": {
    "scrolled": true,
    "ExecuteTime": {
     "end_time": "2023-05-10T06:39:50.806234Z",
     "start_time": "2023-05-10T06:39:50.800752Z"
    }
   },
   "outputs": [
    {
     "data": {
      "text/plain": "                          id          placeholder maxlength sectionbtnfocus  \\\n1         customerInfo.email  abcdef1234@muji.com       NaN             NaN   \n2      customerInfo.fullName                無印　太郎       NaN             NaN   \n3  customerInfo.fullNameKana             ムジルシ　タロウ       NaN             NaN   \n4       customerInfo.zipCode              1708424         8             NaN   \n5      customerInfo.address1               東京都豊島区       NaN             NaN   \n6      customerInfo.address2                  東池袋       NaN             NaN   \n7      customerInfo.address3               ４ー２６ー３       NaN             NaN   \n8      customerInfo.address4                  NaN       NaN             NaN   \n9         customerInfo.telNo           0339894191        13             NaN   \n\n  inputbackgroundcolor                                              class  \\\n1                  NaN  [ant-input, textField__Input-sc-17ccvkc-1, iSh...   \n2                  NaN                                                NaN   \n3                  NaN                                                NaN   \n4                  NaN                                        [ant-input]   \n5                  NaN  [ant-input, ant-input-disabled, textField__Inp...   \n6                  NaN  [ant-input, textField__Input-sc-17ccvkc-1, iSh...   \n7                  NaN  [ant-input, textField__Input-sc-17ccvkc-1, iSh...   \n8                  NaN  [ant-input, textField__Input-sc-17ccvkc-1, iSh...   \n9                  NaN  [ant-input, digitsField__Input-sc-12tpvpc-1, g...   \n\n   type value width height inputmode      data-__meta     data-__field  \\\n1  text        100%   auto     email  [object Object]  [object Object]   \n2  text         NaN    NaN       NaN  [object Object]  [object Object]   \n3  text         NaN    NaN       NaN  [object Object]  [object Object]   \n4   tel         NaN    NaN       NaN  [object Object]  [object Object]   \n5  text        100%   auto       NaN  [object Object]  [object Object]   \n6  text        100%   auto       NaN  [object Object]  [object Object]   \n7  text        100%   auto       NaN  [object Object]  [object Object]   \n8  text        100%   auto       NaN  [object Object]  [object Object]   \n9   tel        100%   auto       NaN  [object Object]  [object Object]   \n\n                        name disabled                    style  \n1                        NaN      NaN                      NaN  \n2      customerInfo.fullName      NaN                      NaN  \n3  customerInfo.fullNameKana      NaN                      NaN  \n4                        NaN      NaN                      NaN  \n5                        NaN           color: rgb(88, 88, 88);  \n6                        NaN      NaN                      NaN  \n7                        NaN      NaN                      NaN  \n8                        NaN      NaN                      NaN  \n9                        NaN      NaN                      NaN  ",
      "text/html": "<div>\n<style scoped>\n    .dataframe tbody tr th:only-of-type {\n        vertical-align: middle;\n    }\n\n    .dataframe tbody tr th {\n        vertical-align: top;\n    }\n\n    .dataframe thead th {\n        text-align: right;\n    }\n</style>\n<table border=\"1\" class=\"dataframe\">\n  <thead>\n    <tr style=\"text-align: right;\">\n      <th></th>\n      <th>id</th>\n      <th>placeholder</th>\n      <th>maxlength</th>\n      <th>sectionbtnfocus</th>\n      <th>inputbackgroundcolor</th>\n      <th>class</th>\n      <th>type</th>\n      <th>value</th>\n      <th>width</th>\n      <th>height</th>\n      <th>inputmode</th>\n      <th>data-__meta</th>\n      <th>data-__field</th>\n      <th>name</th>\n      <th>disabled</th>\n      <th>style</th>\n    </tr>\n  </thead>\n  <tbody>\n    <tr>\n      <th>1</th>\n      <td>customerInfo.email</td>\n      <td>abcdef1234@muji.com</td>\n      <td>NaN</td>\n      <td>NaN</td>\n      <td>NaN</td>\n      <td>[ant-input, textField__Input-sc-17ccvkc-1, iSh...</td>\n      <td>text</td>\n      <td></td>\n      <td>100%</td>\n      <td>auto</td>\n      <td>email</td>\n      <td>[object Object]</td>\n      <td>[object Object]</td>\n      <td>NaN</td>\n      <td>NaN</td>\n      <td>NaN</td>\n    </tr>\n    <tr>\n      <th>2</th>\n      <td>customerInfo.fullName</td>\n      <td>無印　太郎</td>\n      <td>NaN</td>\n      <td>NaN</td>\n      <td>NaN</td>\n      <td>NaN</td>\n      <td>text</td>\n      <td></td>\n      <td>NaN</td>\n      <td>NaN</td>\n      <td>NaN</td>\n      <td>[object Object]</td>\n      <td>[object Object]</td>\n      <td>customerInfo.fullName</td>\n      <td>NaN</td>\n      <td>NaN</td>\n    </tr>\n    <tr>\n      <th>3</th>\n      <td>customerInfo.fullNameKana</td>\n      <td>ムジルシ　タロウ</td>\n      <td>NaN</td>\n      <td>NaN</td>\n      <td>NaN</td>\n      <td>NaN</td>\n      <td>text</td>\n      <td></td>\n      <td>NaN</td>\n      <td>NaN</td>\n      <td>NaN</td>\n      <td>[object Object]</td>\n      <td>[object Object]</td>\n      <td>customerInfo.fullNameKana</td>\n      <td>NaN</td>\n      <td>NaN</td>\n    </tr>\n    <tr>\n      <th>4</th>\n      <td>customerInfo.zipCode</td>\n      <td>1708424</td>\n      <td>8</td>\n      <td>NaN</td>\n      <td>NaN</td>\n      <td>[ant-input]</td>\n      <td>tel</td>\n      <td></td>\n      <td>NaN</td>\n      <td>NaN</td>\n      <td>NaN</td>\n      <td>[object Object]</td>\n      <td>[object Object]</td>\n      <td>NaN</td>\n      <td>NaN</td>\n      <td>NaN</td>\n    </tr>\n    <tr>\n      <th>5</th>\n      <td>customerInfo.address1</td>\n      <td>東京都豊島区</td>\n      <td>NaN</td>\n      <td>NaN</td>\n      <td>NaN</td>\n      <td>[ant-input, ant-input-disabled, textField__Inp...</td>\n      <td>text</td>\n      <td></td>\n      <td>100%</td>\n      <td>auto</td>\n      <td>NaN</td>\n      <td>[object Object]</td>\n      <td>[object Object]</td>\n      <td>NaN</td>\n      <td></td>\n      <td>color: rgb(88, 88, 88);</td>\n    </tr>\n    <tr>\n      <th>6</th>\n      <td>customerInfo.address2</td>\n      <td>東池袋</td>\n      <td>NaN</td>\n      <td>NaN</td>\n      <td>NaN</td>\n      <td>[ant-input, textField__Input-sc-17ccvkc-1, iSh...</td>\n      <td>text</td>\n      <td></td>\n      <td>100%</td>\n      <td>auto</td>\n      <td>NaN</td>\n      <td>[object Object]</td>\n      <td>[object Object]</td>\n      <td>NaN</td>\n      <td>NaN</td>\n      <td>NaN</td>\n    </tr>\n    <tr>\n      <th>7</th>\n      <td>customerInfo.address3</td>\n      <td>４ー２６ー３</td>\n      <td>NaN</td>\n      <td>NaN</td>\n      <td>NaN</td>\n      <td>[ant-input, textField__Input-sc-17ccvkc-1, iSh...</td>\n      <td>text</td>\n      <td></td>\n      <td>100%</td>\n      <td>auto</td>\n      <td>NaN</td>\n      <td>[object Object]</td>\n      <td>[object Object]</td>\n      <td>NaN</td>\n      <td>NaN</td>\n      <td>NaN</td>\n    </tr>\n    <tr>\n      <th>8</th>\n      <td>customerInfo.address4</td>\n      <td>NaN</td>\n      <td>NaN</td>\n      <td>NaN</td>\n      <td>NaN</td>\n      <td>[ant-input, textField__Input-sc-17ccvkc-1, iSh...</td>\n      <td>text</td>\n      <td></td>\n      <td>100%</td>\n      <td>auto</td>\n      <td>NaN</td>\n      <td>[object Object]</td>\n      <td>[object Object]</td>\n      <td>NaN</td>\n      <td>NaN</td>\n      <td>NaN</td>\n    </tr>\n    <tr>\n      <th>9</th>\n      <td>customerInfo.telNo</td>\n      <td>0339894191</td>\n      <td>13</td>\n      <td>NaN</td>\n      <td>NaN</td>\n      <td>[ant-input, digitsField__Input-sc-12tpvpc-1, g...</td>\n      <td>tel</td>\n      <td></td>\n      <td>100%</td>\n      <td>auto</td>\n      <td>NaN</td>\n      <td>[object Object]</td>\n      <td>[object Object]</td>\n      <td>NaN</td>\n      <td>NaN</td>\n      <td>NaN</td>\n    </tr>\n  </tbody>\n</table>\n</div>"
     },
     "execution_count": 13,
     "metadata": {},
     "output_type": "execute_result"
    }
   ],
   "source": [
    "df"
   ]
  },
  {
   "cell_type": "code",
   "execution_count": 14,
   "id": "422af145",
   "metadata": {
    "ExecuteTime": {
     "end_time": "2023-05-10T06:39:50.859489Z",
     "start_time": "2023-05-10T06:39:50.811909Z"
    }
   },
   "outputs": [],
   "source": [
    "# define it to make it reusable. Only until the count part.\n",
    "\n",
    "def parse_html_inputs(filename):\n",
    "    # Load the HTML file\n",
    "    with open(filename, 'r') as f:\n",
    "        html = f.read()\n",
    "\n",
    "    # Parse the HTML using BeautifulSoup\n",
    "    soup = BeautifulSoup(html, 'html.parser')\n",
    "\n",
    "    # Finding input elements in the URL\n",
    "    # With types 'text' or 'email' or 'tel'\n",
    "    input_elements = soup.find_all('input', {'type': ['text', 'email', 'tel']})\n",
    "\n",
    "    # Create a list of dictionaries for each input element\n",
    "    inputs_list = []\n",
    "    for input_element in input_elements:\n",
    "        inputs_list.append(input_element.attrs)\n",
    "\n",
    "    # Create a DataFrame from the list of input elements\n",
    "    df = pd.DataFrame(inputs_list)\n",
    "\n",
    "    # Delete the search input\n",
    "    for index, row in df.iterrows():\n",
    "        if any(\"search\" in str(col).lower() for col in row):\n",
    "            df.drop(index, inplace=True)\n",
    "\n",
    "    #Skip for the inputs that has no label in aria label\n",
    "    for input_dict in inputs_list:\n",
    "        label = input_dict.get(\"aria-label\")\n",
    "        if label == \"no-label\":\n",
    "           continue\n",
    "        elif \"label\" in input_dict and input_dict[\"label\"] == \"no-label\":\n",
    "            continue\n",
    "\n",
    "    # Return the DataFrame\n",
    "    if len(df) > 8:\n",
    "        print(\"The input form is too long\")\n",
    "        print(len(df))\n",
    "        print(df)\n",
    "    else:\n",
    "        print(\"The input form looks good\")\n",
    "        print(len(df))\n",
    "        print(df)"
   ]
  },
  {
   "cell_type": "code",
   "execution_count": 15,
   "id": "752bdc23",
   "metadata": {
    "ExecuteTime": {
     "end_time": "2023-05-10T06:39:50.914046Z",
     "start_time": "2023-05-10T06:39:50.816979Z"
    }
   },
   "outputs": [
    {
     "name": "stdout",
     "output_type": "stream",
     "text": [
      "The input form looks good\n",
      "8\n",
      "                                               class  \\\n",
      "0  [form-input-label__input, form-input-text__input]   \n",
      "1  [form-input-label__input, form-input-text__input]   \n",
      "2  [form-input-label__input, form-input-text__input]   \n",
      "3  [form-input-label__input, form-input-text__input]   \n",
      "4  [form-input-label__input, form-input-text__input]   \n",
      "5  [form-input-label__input, form-input-text__input]   \n",
      "6  [form-input-label__input, form-input-text__input]   \n",
      "7  [form-input-label__input, form-input-text__input]   \n",
      "\n",
      "                         name         placeholder  type  \\\n",
      "0                    lastName                      text   \n",
      "1                   firstName                      text   \n",
      "2             addressLines[0]                      text   \n",
      "3             addressLines[1]  マンション・アパートの階・部屋番号等  text   \n",
      "4                        city                      text   \n",
      "5                       email                      text   \n",
      "6       phones[0].countryCode                       tel   \n",
      "7  phones[0].subscriberNumber                       tel   \n",
      "\n",
      "      data-qa-input-qualifier  \\\n",
      "0                    lastName   \n",
      "1                   firstName   \n",
      "2             addressLines[0]   \n",
      "3             addressLines[1]   \n",
      "4                        city   \n",
      "5                       email   \n",
      "6       phones[0].countryCode   \n",
      "7  phones[0].subscriberNumber   \n",
      "\n",
      "                                     aria-labelledby aria-required value  \\\n",
      "0                   form-input__label-lastName-zds-4          true         \n",
      "1                  form-input__label-firstName-zds-5          true         \n",
      "2            form-input__label-addressLines[0]-zds-7          true         \n",
      "3            form-input__label-addressLines[1]-zds-8           NaN         \n",
      "4                       form-input__label-city-zds-9          true         \n",
      "5                     form-input__label-email-zds-12          true         \n",
      "6     form-input__label-phones[0].countryCode-zds-13          true   +81   \n",
      "7  form-input__label-phones[0].subscriberNumber-z...          true         \n",
      "\n",
      "       autocomplete   id aria-label  \n",
      "0               NaN  NaN        NaN  \n",
      "1               NaN  NaN        NaN  \n",
      "2               NaN  NaN        NaN  \n",
      "3               NaN  NaN        NaN  \n",
      "4               NaN  NaN        NaN  \n",
      "5               NaN  NaN        NaN  \n",
      "6  tel-country-code  NaN        NaN  \n",
      "7      tel-national  NaN        NaN  \n"
     ]
    }
   ],
   "source": [
    "ZARA= parse_html_inputs('ZARA - checkout page.html')"
   ]
  },
  {
   "cell_type": "markdown",
   "source": [
    "For Zara checkout, you can see that it is not counting the post code because the input type is autocomplete.However, if you add this postcode, you autofill the \"city\" input, which is counted as input here.<br>\n",
    " Therefor, the input count is technically the same. Will leave it as is for now."
   ],
   "metadata": {
    "collapsed": false,
    "ExecuteTime": {
     "end_time": "2023-05-08T08:57:33.602638Z",
     "start_time": "2023-05-08T08:57:33.499641Z"
    }
   },
   "outputs": [
    {
     "name": "stdout",
     "output_type": "stream",
     "text": [
      "The input form is too long\n",
      "16\n",
      "                         id            name      placeholder   type  \\\n",
      "0                     email           email             Eメール  email   \n",
      "1                TextField0        lastName                姓   text   \n",
      "2                TextField1       firstName           名 (任意)   text   \n",
      "3                postalCode      postalCode             郵便番号   text   \n",
      "4                TextField3            city             市区町村   text   \n",
      "5                TextField4        address1               住所   text   \n",
      "6                TextField5        address2  建物名、部屋番号など (任意)   text   \n",
      "7        autofill_firstName       firstName              NaN   text   \n",
      "8         autofill_lastName        lastName              NaN   text   \n",
      "9         autofill_address1        address1              NaN   text   \n",
      "10        autofill_address2        address2              NaN   text   \n",
      "11            autofill_city            city              NaN   text   \n",
      "12         autofill_country         country              NaN   text   \n",
      "13            autofill_zone            zone              NaN   text   \n",
      "14  autofill_address_level1  address-level1              NaN   text   \n",
      "15      autofill_postalCode      postalCode              NaN   text   \n",
      "\n",
      "     aria-labelledby             autocomplete autofocus  \\\n",
      "0        email-label           shipping email      true   \n",
      "1   TextField0-label     shipping family-name       NaN   \n",
      "2   TextField1-label      shipping given-name       NaN   \n",
      "3   postalCode-label     shipping postal-code       NaN   \n",
      "4   TextField3-label  shipping address-level2       NaN   \n",
      "5   TextField4-label   shipping address-line1       NaN   \n",
      "6   TextField5-label   shipping address-line2       NaN   \n",
      "7                NaN      shipping given-name       NaN   \n",
      "8                NaN     shipping family-name       NaN   \n",
      "9                NaN   shipping address-line1       NaN   \n",
      "10               NaN   shipping address-line2       NaN   \n",
      "11               NaN  shipping address-level2       NaN   \n",
      "12               NaN         shipping country       NaN   \n",
      "13               NaN  shipping address-level1       NaN   \n",
      "14               NaN  shipping address-level1       NaN   \n",
      "15               NaN     shipping postal-code       NaN   \n",
      "\n",
      "                                                class       aria-controls  \\\n",
      "0   [_7ozb2uu, _1fragema3, _1fragemar, _1fragem30,...            Popover0   \n",
      "1   [_7ozb2uu, _1fragema3, _1fragemar, _1fragem30,...                 NaN   \n",
      "2   [_7ozb2uu, _1fragema3, _1fragemar, _1fragem30,...                 NaN   \n",
      "3   [_7ozb2uu, _1fragema3, _1fragemar, _1fragem30,...  postalCode-options   \n",
      "4   [_7ozb2uu, _1fragema3, _1fragemar, _1fragem30,...                 NaN   \n",
      "5   [_7ozb2uu, _1fragema3, _1fragemar, _1fragem30,...                 NaN   \n",
      "6   [_7ozb2uu, _1fragema3, _1fragemar, _1fragem30,...                 NaN   \n",
      "7                                                 NaN                 NaN   \n",
      "8                                                 NaN                 NaN   \n",
      "9                                                 NaN                 NaN   \n",
      "10                                                NaN                 NaN   \n",
      "11                                                NaN                 NaN   \n",
      "12                                                NaN                 NaN   \n",
      "13                                                NaN                 NaN   \n",
      "14                                                NaN                 NaN   \n",
      "15                                                NaN                 NaN   \n",
      "\n",
      "   aria-expanded  ... aria-required aria-autocomplete           aria-owns  \\\n",
      "0          false  ...           NaN               NaN                 NaN   \n",
      "1            NaN  ...          true               NaN                 NaN   \n",
      "2            NaN  ...         false               NaN                 NaN   \n",
      "3          false  ...          true              list  postalCode-options   \n",
      "4            NaN  ...          true               NaN                 NaN   \n",
      "5            NaN  ...          true               NaN                 NaN   \n",
      "6            NaN  ...         false               NaN                 NaN   \n",
      "7            NaN  ...           NaN               NaN                 NaN   \n",
      "8            NaN  ...           NaN               NaN                 NaN   \n",
      "9            NaN  ...           NaN               NaN                 NaN   \n",
      "10           NaN  ...           NaN               NaN                 NaN   \n",
      "11           NaN  ...           NaN               NaN                 NaN   \n",
      "12           NaN  ...           NaN               NaN                 NaN   \n",
      "13           NaN  ...           NaN               NaN                 NaN   \n",
      "14           NaN  ...           NaN               NaN                 NaN   \n",
      "15           NaN  ...           NaN               NaN                 NaN   \n",
      "\n",
      "   aria-haspopup      role autocorrect tabindex label aria-hidden aria-label  \n",
      "0            NaN       NaN         NaN      NaN   NaN         NaN        NaN  \n",
      "1            NaN       NaN         NaN      NaN   NaN         NaN        NaN  \n",
      "2            NaN       NaN         NaN      NaN   NaN         NaN        NaN  \n",
      "3        listbox  combobox         off      NaN   NaN         NaN        NaN  \n",
      "4            NaN       NaN         NaN      NaN   NaN         NaN        NaN  \n",
      "5            NaN       NaN         NaN      NaN   NaN         NaN        NaN  \n",
      "6            NaN       NaN         NaN      NaN   NaN         NaN        NaN  \n",
      "7            NaN       NaN         NaN       -1              true   no-label  \n",
      "8            NaN       NaN         NaN       -1              true   no-label  \n",
      "9            NaN       NaN         NaN       -1              true   no-label  \n",
      "10           NaN       NaN         NaN       -1              true   no-label  \n",
      "11           NaN       NaN         NaN       -1              true   no-label  \n",
      "12           NaN       NaN         NaN       -1              true   no-label  \n",
      "13           NaN       NaN         NaN       -1              true   no-label  \n",
      "14           NaN       NaN         NaN       -1              true   no-label  \n",
      "15           NaN       NaN         NaN       -1              true   no-label  \n",
      "\n",
      "[16 rows x 21 columns]\n"
     ]
    }
   ],
   "execution_count": 14
  },
  {
   "cell_type": "code",
   "execution_count": 14,
   "id": "b36d11b5",
   "metadata": {
    "ExecuteTime": {
     "end_time": "2023-05-10T06:06:13.306545Z",
     "start_time": "2023-05-10T06:06:13.253246Z"
    }
   },
   "outputs": [
    {
     "name": "stdout",
     "output_type": "stream",
     "text": [
      "The input form is too long\n",
      "16\n",
      "                         id            name      placeholder   type  \\\n",
      "0                     email           email             Eメール  email   \n",
      "1                TextField0        lastName                姓   text   \n",
      "2                TextField1       firstName           名 (任意)   text   \n",
      "3                postalCode      postalCode             郵便番号   text   \n",
      "4                TextField3            city             市区町村   text   \n",
      "5                TextField4        address1               住所   text   \n",
      "6                TextField5        address2  建物名、部屋番号など (任意)   text   \n",
      "7        autofill_firstName       firstName              NaN   text   \n",
      "8         autofill_lastName        lastName              NaN   text   \n",
      "9         autofill_address1        address1              NaN   text   \n",
      "10        autofill_address2        address2              NaN   text   \n",
      "11            autofill_city            city              NaN   text   \n",
      "12         autofill_country         country              NaN   text   \n",
      "13            autofill_zone            zone              NaN   text   \n",
      "14  autofill_address_level1  address-level1              NaN   text   \n",
      "15      autofill_postalCode      postalCode              NaN   text   \n",
      "\n",
      "     aria-labelledby             autocomplete autofocus  \\\n",
      "0        email-label           shipping email      true   \n",
      "1   TextField0-label     shipping family-name       NaN   \n",
      "2   TextField1-label      shipping given-name       NaN   \n",
      "3   postalCode-label     shipping postal-code       NaN   \n",
      "4   TextField3-label  shipping address-level2       NaN   \n",
      "5   TextField4-label   shipping address-line1       NaN   \n",
      "6   TextField5-label   shipping address-line2       NaN   \n",
      "7                NaN      shipping given-name       NaN   \n",
      "8                NaN     shipping family-name       NaN   \n",
      "9                NaN   shipping address-line1       NaN   \n",
      "10               NaN   shipping address-line2       NaN   \n",
      "11               NaN  shipping address-level2       NaN   \n",
      "12               NaN         shipping country       NaN   \n",
      "13               NaN  shipping address-level1       NaN   \n",
      "14               NaN  shipping address-level1       NaN   \n",
      "15               NaN     shipping postal-code       NaN   \n",
      "\n",
      "                                                class       aria-controls  \\\n",
      "0   [_7ozb2uu, _1fragema3, _1fragemar, _1fragem30,...            Popover0   \n",
      "1   [_7ozb2uu, _1fragema3, _1fragemar, _1fragem30,...                 NaN   \n",
      "2   [_7ozb2uu, _1fragema3, _1fragemar, _1fragem30,...                 NaN   \n",
      "3   [_7ozb2uu, _1fragema3, _1fragemar, _1fragem30,...  postalCode-options   \n",
      "4   [_7ozb2uu, _1fragema3, _1fragemar, _1fragem30,...                 NaN   \n",
      "5   [_7ozb2uu, _1fragema3, _1fragemar, _1fragem30,...                 NaN   \n",
      "6   [_7ozb2uu, _1fragema3, _1fragemar, _1fragem30,...                 NaN   \n",
      "7                                                 NaN                 NaN   \n",
      "8                                                 NaN                 NaN   \n",
      "9                                                 NaN                 NaN   \n",
      "10                                                NaN                 NaN   \n",
      "11                                                NaN                 NaN   \n",
      "12                                                NaN                 NaN   \n",
      "13                                                NaN                 NaN   \n",
      "14                                                NaN                 NaN   \n",
      "15                                                NaN                 NaN   \n",
      "\n",
      "   aria-expanded  ... aria-required aria-autocomplete           aria-owns  \\\n",
      "0          false  ...           NaN               NaN                 NaN   \n",
      "1            NaN  ...          true               NaN                 NaN   \n",
      "2            NaN  ...         false               NaN                 NaN   \n",
      "3          false  ...          true              list  postalCode-options   \n",
      "4            NaN  ...          true               NaN                 NaN   \n",
      "5            NaN  ...          true               NaN                 NaN   \n",
      "6            NaN  ...         false               NaN                 NaN   \n",
      "7            NaN  ...           NaN               NaN                 NaN   \n",
      "8            NaN  ...           NaN               NaN                 NaN   \n",
      "9            NaN  ...           NaN               NaN                 NaN   \n",
      "10           NaN  ...           NaN               NaN                 NaN   \n",
      "11           NaN  ...           NaN               NaN                 NaN   \n",
      "12           NaN  ...           NaN               NaN                 NaN   \n",
      "13           NaN  ...           NaN               NaN                 NaN   \n",
      "14           NaN  ...           NaN               NaN                 NaN   \n",
      "15           NaN  ...           NaN               NaN                 NaN   \n",
      "\n",
      "   aria-haspopup      role autocorrect tabindex label aria-hidden aria-label  \n",
      "0            NaN       NaN         NaN      NaN   NaN         NaN        NaN  \n",
      "1            NaN       NaN         NaN      NaN   NaN         NaN        NaN  \n",
      "2            NaN       NaN         NaN      NaN   NaN         NaN        NaN  \n",
      "3        listbox  combobox         off      NaN   NaN         NaN        NaN  \n",
      "4            NaN       NaN         NaN      NaN   NaN         NaN        NaN  \n",
      "5            NaN       NaN         NaN      NaN   NaN         NaN        NaN  \n",
      "6            NaN       NaN         NaN      NaN   NaN         NaN        NaN  \n",
      "7            NaN       NaN         NaN       -1              true   no-label  \n",
      "8            NaN       NaN         NaN       -1              true   no-label  \n",
      "9            NaN       NaN         NaN       -1              true   no-label  \n",
      "10           NaN       NaN         NaN       -1              true   no-label  \n",
      "11           NaN       NaN         NaN       -1              true   no-label  \n",
      "12           NaN       NaN         NaN       -1              true   no-label  \n",
      "13           NaN       NaN         NaN       -1              true   no-label  \n",
      "14           NaN       NaN         NaN       -1              true   no-label  \n",
      "15           NaN       NaN         NaN       -1              true   no-label  \n",
      "\n",
      "[16 rows x 21 columns]\n"
     ]
    }
   ],
   "source": [
    "#For this one, it's counting ones that are hidden. Not sure why.\n",
    "# Need to delete the delete the ones that has the aria-hidden as \"true\"\n",
    "DemoShopify= parse_html_inputs(\"DemoShopify - Checkout page.html\")"
   ]
  },
  {
   "cell_type": "code",
   "execution_count": 18,
   "outputs": [
    {
     "name": "stdout",
     "output_type": "stream",
     "text": [
      "The input form is too long\n",
      "16\n",
      "                         id            name      placeholder   type  \\\n",
      "0                     email           email             Eメール  email   \n",
      "1                TextField0        lastName                姓   text   \n",
      "2                TextField1       firstName           名 (任意)   text   \n",
      "3                postalCode      postalCode             郵便番号   text   \n",
      "4                TextField3            city             市区町村   text   \n",
      "5                TextField4        address1               住所   text   \n",
      "6                TextField5        address2  建物名、部屋番号など (任意)   text   \n",
      "7        autofill_firstName       firstName              NaN   text   \n",
      "8         autofill_lastName        lastName              NaN   text   \n",
      "9         autofill_address1        address1              NaN   text   \n",
      "10        autofill_address2        address2              NaN   text   \n",
      "11            autofill_city            city              NaN   text   \n",
      "12         autofill_country         country              NaN   text   \n",
      "13            autofill_zone            zone              NaN   text   \n",
      "14  autofill_address_level1  address-level1              NaN   text   \n",
      "15      autofill_postalCode      postalCode              NaN   text   \n",
      "\n",
      "     aria-labelledby             autocomplete autofocus  \\\n",
      "0        email-label           shipping email      true   \n",
      "1   TextField0-label     shipping family-name       NaN   \n",
      "2   TextField1-label      shipping given-name       NaN   \n",
      "3   postalCode-label     shipping postal-code       NaN   \n",
      "4   TextField3-label  shipping address-level2       NaN   \n",
      "5   TextField4-label   shipping address-line1       NaN   \n",
      "6   TextField5-label   shipping address-line2       NaN   \n",
      "7                NaN      shipping given-name       NaN   \n",
      "8                NaN     shipping family-name       NaN   \n",
      "9                NaN   shipping address-line1       NaN   \n",
      "10               NaN   shipping address-line2       NaN   \n",
      "11               NaN  shipping address-level2       NaN   \n",
      "12               NaN         shipping country       NaN   \n",
      "13               NaN  shipping address-level1       NaN   \n",
      "14               NaN  shipping address-level1       NaN   \n",
      "15               NaN     shipping postal-code       NaN   \n",
      "\n",
      "                                                class       aria-controls  \\\n",
      "0   [_7ozb2uu, _1fragema3, _1fragemar, _1fragem30,...            Popover0   \n",
      "1   [_7ozb2uu, _1fragema3, _1fragemar, _1fragem30,...                 NaN   \n",
      "2   [_7ozb2uu, _1fragema3, _1fragemar, _1fragem30,...                 NaN   \n",
      "3   [_7ozb2uu, _1fragema3, _1fragemar, _1fragem30,...  postalCode-options   \n",
      "4   [_7ozb2uu, _1fragema3, _1fragemar, _1fragem30,...                 NaN   \n",
      "5   [_7ozb2uu, _1fragema3, _1fragemar, _1fragem30,...                 NaN   \n",
      "6   [_7ozb2uu, _1fragema3, _1fragemar, _1fragem30,...                 NaN   \n",
      "7                                                 NaN                 NaN   \n",
      "8                                                 NaN                 NaN   \n",
      "9                                                 NaN                 NaN   \n",
      "10                                                NaN                 NaN   \n",
      "11                                                NaN                 NaN   \n",
      "12                                                NaN                 NaN   \n",
      "13                                                NaN                 NaN   \n",
      "14                                                NaN                 NaN   \n",
      "15                                                NaN                 NaN   \n",
      "\n",
      "   aria-expanded  ... aria-required aria-autocomplete           aria-owns  \\\n",
      "0          false  ...           NaN               NaN                 NaN   \n",
      "1            NaN  ...          true               NaN                 NaN   \n",
      "2            NaN  ...         false               NaN                 NaN   \n",
      "3          false  ...          true              list  postalCode-options   \n",
      "4            NaN  ...          true               NaN                 NaN   \n",
      "5            NaN  ...          true               NaN                 NaN   \n",
      "6            NaN  ...         false               NaN                 NaN   \n",
      "7            NaN  ...           NaN               NaN                 NaN   \n",
      "8            NaN  ...           NaN               NaN                 NaN   \n",
      "9            NaN  ...           NaN               NaN                 NaN   \n",
      "10           NaN  ...           NaN               NaN                 NaN   \n",
      "11           NaN  ...           NaN               NaN                 NaN   \n",
      "12           NaN  ...           NaN               NaN                 NaN   \n",
      "13           NaN  ...           NaN               NaN                 NaN   \n",
      "14           NaN  ...           NaN               NaN                 NaN   \n",
      "15           NaN  ...           NaN               NaN                 NaN   \n",
      "\n",
      "   aria-haspopup      role autocorrect tabindex label aria-hidden aria-label  \n",
      "0            NaN       NaN         NaN      NaN   NaN         NaN        NaN  \n",
      "1            NaN       NaN         NaN      NaN   NaN         NaN        NaN  \n",
      "2            NaN       NaN         NaN      NaN   NaN         NaN        NaN  \n",
      "3        listbox  combobox         off      NaN   NaN         NaN        NaN  \n",
      "4            NaN       NaN         NaN      NaN   NaN         NaN        NaN  \n",
      "5            NaN       NaN         NaN      NaN   NaN         NaN        NaN  \n",
      "6            NaN       NaN         NaN      NaN   NaN         NaN        NaN  \n",
      "7            NaN       NaN         NaN       -1              true   no-label  \n",
      "8            NaN       NaN         NaN       -1              true   no-label  \n",
      "9            NaN       NaN         NaN       -1              true   no-label  \n",
      "10           NaN       NaN         NaN       -1              true   no-label  \n",
      "11           NaN       NaN         NaN       -1              true   no-label  \n",
      "12           NaN       NaN         NaN       -1              true   no-label  \n",
      "13           NaN       NaN         NaN       -1              true   no-label  \n",
      "14           NaN       NaN         NaN       -1              true   no-label  \n",
      "15           NaN       NaN         NaN       -1              true   no-label  \n",
      "\n",
      "[16 rows x 21 columns]\n"
     ]
    }
   ],
   "source": [
    "Coach = parse_html_inputs(\"COACH - checkput page.html\")"
   ],
   "metadata": {
    "collapsed": false,
    "ExecuteTime": {
     "end_time": "2023-05-10T06:40:25.700733Z",
     "start_time": "2023-05-10T06:40:25.666714Z"
    }
   }
  },
  {
   "cell_type": "code",
   "execution_count": 21,
   "outputs": [
    {
     "name": "stdout",
     "output_type": "stream",
     "text": [
      "hellp world\n"
     ]
    }
   ],
   "source": [],
   "metadata": {
    "collapsed": false,
    "ExecuteTime": {
     "end_time": "2023-05-10T06:41:28.548281Z",
     "start_time": "2023-05-10T06:41:28.538614Z"
    }
   }
  }
 ],
 "metadata": {
  "kernelspec": {
   "display_name": "Python 3 (ipykernel)",
   "language": "python",
   "name": "python3"
  },
  "language_info": {
   "codemirror_mode": {
    "name": "ipython",
    "version": 3
   },
   "file_extension": ".py",
   "mimetype": "text/x-python",
   "name": "python",
   "nbconvert_exporter": "python",
   "pygments_lexer": "ipython3",
   "version": "3.9.13"
  }
 },
 "nbformat": 4,
 "nbformat_minor": 5
}

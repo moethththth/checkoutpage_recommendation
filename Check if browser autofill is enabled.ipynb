{
 "cells": [
  {
   "cell_type": "markdown",
   "id": "4e0dcf59",
   "metadata": {},
   "source": [
    "# Checking if browser autofill function is enabled in a form field"
   ]
  },
  {
   "cell_type": "markdown",
   "id": "29157c3b",
   "metadata": {},
   "source": [
    "The objective of this project is to check if the browser autofill function is disabled in a HTML form field and to provide recommendation to enable the browser autofill function for a specific form field."
   ]
  },
  {
   "cell_type": "markdown",
   "id": "a966c087",
   "metadata": {},
   "source": [
    "__Description:__\n",
    "\n",
    "\n",
    "For `input element` in a HTML form, `autcomplete` attribute determines whether the website has enabled browser autofill function in a specific field. There are mainly two types of value of the `autocomplete` attribute:\n",
    "\n",
    "- If browser autofill for an input element is disabled, `autocomplete = \"off\"`\n",
    "- If browser autofill for an input element is enabled, `autocomplete = (matching value in browser setting)` [See a list of autcomplete values here](https://developer.mozilla.org/en-US/docs/Web/HTML/Attributes/autocomplete)\n",
    "\n",
    "\n",
    "In some cases, when `autocomplete = \"on\"`, the browser will use its own judgement to decide what data is expected in the field. However, this is not a very common case and will not be taken into account in this project."
   ]
  },
  {
   "cell_type": "code",
   "execution_count": 11,
   "id": "ba0a37a5",
   "metadata": {},
   "outputs": [],
   "source": [
    "from bs4 import BeautifulSoup"
   ]
  },
  {
   "cell_type": "code",
   "execution_count": 12,
   "id": "83ecaaba",
   "metadata": {},
   "outputs": [],
   "source": [
    "with open('drinks&co.html', mode='r', encoding='utf-8') as f:\n",
    "    html = f.read()"
   ]
  },
  {
   "cell_type": "code",
   "execution_count": 13,
   "id": "93d5301a",
   "metadata": {},
   "outputs": [],
   "source": [
    "# Parse the HTML using BeautifulSoup\n",
    "soup = BeautifulSoup(html, 'html.parser')"
   ]
  },
  {
   "cell_type": "code",
   "execution_count": 14,
   "id": "68d128be",
   "metadata": {},
   "outputs": [],
   "source": [
    "# Finding input elements in the URL\n",
    "# Only include types that will require user input\n",
    "input_elements = soup.find_all('input', {'type': ['text', 'email', 'tel', 'date', 'datetime-local', 'number', 'month', 'time']})"
   ]
  },
  {
   "cell_type": "code",
   "execution_count": 20,
   "id": "9481c30d",
   "metadata": {},
   "outputs": [],
   "source": [
    "# Create a list of attribute for each input element\n",
    "inputs_list = []\n",
    "for input_element in input_elements:\n",
    "    inputs_list.append(input_element.attrs)"
   ]
  },
  {
   "cell_type": "code",
   "execution_count": 21,
   "id": "56b01559",
   "metadata": {},
   "outputs": [
    {
     "data": {
      "text/html": [
       "<div>\n",
       "<style scoped>\n",
       "    .dataframe tbody tr th:only-of-type {\n",
       "        vertical-align: middle;\n",
       "    }\n",
       "\n",
       "    .dataframe tbody tr th {\n",
       "        vertical-align: top;\n",
       "    }\n",
       "\n",
       "    .dataframe thead th {\n",
       "        text-align: right;\n",
       "    }\n",
       "</style>\n",
       "<table border=\"1\" class=\"dataframe\">\n",
       "  <thead>\n",
       "    <tr style=\"text-align: right;\">\n",
       "      <th></th>\n",
       "      <th>id</th>\n",
       "      <th>name</th>\n",
       "      <th>autocomplete</th>\n",
       "      <th>placeholder</th>\n",
       "      <th>role</th>\n",
       "      <th>type</th>\n",
       "      <th>value</th>\n",
       "      <th>class</th>\n",
       "    </tr>\n",
       "  </thead>\n",
       "  <tbody>\n",
       "    <tr>\n",
       "      <th>0</th>\n",
       "      <td>name</td>\n",
       "      <td>name</td>\n",
       "      <td>off</td>\n",
       "      <td></td>\n",
       "      <td>textbox</td>\n",
       "      <td>text</td>\n",
       "      <td>johnny</td>\n",
       "      <td>[dc-input-extended__input]</td>\n",
       "    </tr>\n",
       "    <tr>\n",
       "      <th>1</th>\n",
       "      <td>lastname</td>\n",
       "      <td>lastname</td>\n",
       "      <td>off</td>\n",
       "      <td></td>\n",
       "      <td>textbox</td>\n",
       "      <td>text</td>\n",
       "      <td>perez</td>\n",
       "      <td>[dc-input-extended__input]</td>\n",
       "    </tr>\n",
       "    <tr>\n",
       "      <th>2</th>\n",
       "      <td>email</td>\n",
       "      <td>email</td>\n",
       "      <td>off</td>\n",
       "      <td></td>\n",
       "      <td>textbox</td>\n",
       "      <td>email</td>\n",
       "      <td>johnn_perez@maildrop.cc</td>\n",
       "      <td>[dc-input-extended__input]</td>\n",
       "    </tr>\n",
       "    <tr>\n",
       "      <th>3</th>\n",
       "      <td>telephone</td>\n",
       "      <td>telephone</td>\n",
       "      <td>off</td>\n",
       "      <td></td>\n",
       "      <td>textbox</td>\n",
       "      <td>tel</td>\n",
       "      <td></td>\n",
       "      <td>[dc-input-extended__input, input-is-empty]</td>\n",
       "    </tr>\n",
       "    <tr>\n",
       "      <th>4</th>\n",
       "      <td>vat</td>\n",
       "      <td>vat</td>\n",
       "      <td>off</td>\n",
       "      <td></td>\n",
       "      <td>textbox</td>\n",
       "      <td>text</td>\n",
       "      <td></td>\n",
       "      <td>[dc-input-extended__input, input-is-empty]</td>\n",
       "    </tr>\n",
       "    <tr>\n",
       "      <th>5</th>\n",
       "      <td>address</td>\n",
       "      <td>address</td>\n",
       "      <td>off</td>\n",
       "      <td></td>\n",
       "      <td>textbox</td>\n",
       "      <td>text</td>\n",
       "      <td></td>\n",
       "      <td>[dc-input-extended__input, input-is-empty]</td>\n",
       "    </tr>\n",
       "    <tr>\n",
       "      <th>6</th>\n",
       "      <td>comments</td>\n",
       "      <td>comments</td>\n",
       "      <td>off</td>\n",
       "      <td></td>\n",
       "      <td>textbox</td>\n",
       "      <td>text</td>\n",
       "      <td></td>\n",
       "      <td>[dc-input-extended__input, input-is-empty]</td>\n",
       "    </tr>\n",
       "    <tr>\n",
       "      <th>7</th>\n",
       "      <td>postCode</td>\n",
       "      <td>postCode</td>\n",
       "      <td>off</td>\n",
       "      <td></td>\n",
       "      <td>textbox</td>\n",
       "      <td>text</td>\n",
       "      <td></td>\n",
       "      <td>[dc-input-extended__input, input-is-empty]</td>\n",
       "    </tr>\n",
       "    <tr>\n",
       "      <th>8</th>\n",
       "      <td>city</td>\n",
       "      <td>city</td>\n",
       "      <td>off</td>\n",
       "      <td></td>\n",
       "      <td>textbox</td>\n",
       "      <td>text</td>\n",
       "      <td></td>\n",
       "      <td>[dc-input-extended__input, input-is-empty]</td>\n",
       "    </tr>\n",
       "  </tbody>\n",
       "</table>\n",
       "</div>"
      ],
      "text/plain": [
       "          id       name autocomplete placeholder     role   type  \\\n",
       "0       name       name          off              textbox   text   \n",
       "1   lastname   lastname          off              textbox   text   \n",
       "2      email      email          off              textbox  email   \n",
       "3  telephone  telephone          off              textbox    tel   \n",
       "4        vat        vat          off              textbox   text   \n",
       "5    address    address          off              textbox   text   \n",
       "6   comments   comments          off              textbox   text   \n",
       "7   postCode   postCode          off              textbox   text   \n",
       "8       city       city          off              textbox   text   \n",
       "\n",
       "                     value                                       class  \n",
       "0                   johnny                  [dc-input-extended__input]  \n",
       "1                    perez                  [dc-input-extended__input]  \n",
       "2  johnn_perez@maildrop.cc                  [dc-input-extended__input]  \n",
       "3                           [dc-input-extended__input, input-is-empty]  \n",
       "4                           [dc-input-extended__input, input-is-empty]  \n",
       "5                           [dc-input-extended__input, input-is-empty]  \n",
       "6                           [dc-input-extended__input, input-is-empty]  \n",
       "7                           [dc-input-extended__input, input-is-empty]  \n",
       "8                           [dc-input-extended__input, input-is-empty]  "
      ]
     },
     "execution_count": 21,
     "metadata": {},
     "output_type": "execute_result"
    }
   ],
   "source": [
    "import pandas as pd\n",
    "df = pd.DataFrame(inputs_list)\n",
    "df"
   ]
  },
  {
   "cell_type": "markdown",
   "id": "16247ea5",
   "metadata": {},
   "source": [
    "## Step 1: Extracting elements that have disabled autofill function"
   ]
  },
  {
   "cell_type": "code",
   "execution_count": 16,
   "id": "623cca72",
   "metadata": {},
   "outputs": [],
   "source": [
    "# Add the autocomplete == off elements to a list\n",
    "auto_off = []\n",
    "for input_element in input_elements:\n",
    "  if input_element['autocomplete'] == 'off':\n",
    "    auto_off.append(input_element['name'])"
   ]
  },
  {
   "cell_type": "code",
   "execution_count": 22,
   "id": "37662b09",
   "metadata": {},
   "outputs": [
    {
     "data": {
      "text/plain": [
       "['name',\n",
       " 'lastname',\n",
       " 'email',\n",
       " 'telephone',\n",
       " 'vat',\n",
       " 'address',\n",
       " 'comments',\n",
       " 'postCode',\n",
       " 'city']"
      ]
     },
     "execution_count": 22,
     "metadata": {},
     "output_type": "execute_result"
    }
   ],
   "source": [
    "auto_off"
   ]
  },
  {
   "cell_type": "markdown",
   "id": "ecd3a493",
   "metadata": {},
   "source": [
    "## Step 2: Creating regular expressions to include possible names for the common fields"
   ]
  },
  {
   "cell_type": "markdown",
   "id": "97b81300",
   "metadata": {},
   "source": [
    "Since we would like to recommend to enable the autofill function only for specific fields, step 2 is for us to find all possible field names for the common fields."
   ]
  },
  {
   "cell_type": "code",
   "execution_count": 17,
   "id": "63ed0aec",
   "metadata": {},
   "outputs": [],
   "source": [
    "# Regex for autocomplete fields\n",
    "# Testing regex for autocomplete fields\n",
    "import re\n",
    "p_name= re.compile('name',re.IGNORECASE)\n",
    "p_address = re.compile('address',re.IGNORECASE)\n",
    "p_postcode = re.compile('post',re.IGNORECASE)\n",
    "p_city = re.compile('city',re.IGNORECASE)"
   ]
  },
  {
   "cell_type": "code",
   "execution_count": 18,
   "id": "62ccadf5",
   "metadata": {},
   "outputs": [
    {
     "name": "stdout",
     "output_type": "stream",
     "text": [
      "Please enable browser autofill for name\n",
      "Please enable browser autofill for lastname\n",
      "Please enable browser autofill for address\n",
      "Please enable browser autofill for postCode\n",
      "Please enable browser autofill for city\n"
     ]
    }
   ],
   "source": [
    "# Only showing reco for certain fields\n",
    "reco_text = 'Please enable browser autofill for {field}'\n",
    "for name in auto_off:\n",
    "  testing_text = name\n",
    "  if p_name.findall(testing_text):\n",
    "    print(reco_text.format(field= testing_text))\n",
    "  elif p_address.findall(testing_text):\n",
    "    print(reco_text.format(field= testing_text))\n",
    "  elif p_postcode.findall(testing_text):\n",
    "    print(reco_text.format(field= testing_text))\n",
    "  elif p_city.findall(testing_text):\n",
    "    print(reco_text.format(field= testing_text))"
   ]
  }
 ],
 "metadata": {
  "kernelspec": {
   "display_name": "Python 3",
   "language": "python",
   "name": "python3"
  },
  "language_info": {
   "codemirror_mode": {
    "name": "ipython",
    "version": 3
   },
   "file_extension": ".py",
   "mimetype": "text/x-python",
   "name": "python",
   "nbconvert_exporter": "python",
   "pygments_lexer": "ipython3",
   "version": "3.8.8"
  }
 },
 "nbformat": 4,
 "nbformat_minor": 5
}
